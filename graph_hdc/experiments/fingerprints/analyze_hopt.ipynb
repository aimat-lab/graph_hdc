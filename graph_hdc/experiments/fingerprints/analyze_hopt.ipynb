{
 "cells": [
  {
   "cell_type": "code",
   "execution_count": 70,
   "metadata": {},
   "outputs": [],
   "source": [
    "import os\n",
    "import time\n",
    "import numpy as np\n",
    "from rich.pretty import pprint\n",
    "from typing import List, Dict, Tuple\n",
    "\n",
    "from pycomex.functional.experiment import Experiment"
   ]
  },
  {
   "cell_type": "code",
   "execution_count": 71,
   "metadata": {},
   "outputs": [],
   "source": [
    "PATH = os.getcwd()\n",
    "RESULTS_PATH = os.path.join(PATH, 'results')\n",
    "\n",
    "# A list of identifier strings that will be matched to decide which experiments to include \n",
    "# in the evaluation. These strings can be used to differentiate between different runs of \n",
    "# an experiment.\n",
    "IDENTIFIERS: List[str] = ['hyperopt_b']\n",
    "\n",
    "# These lists define which of the methods within the different categories should be included \n",
    "# in the computation to determine the best value of the hyperparameters.\n",
    "BASE_METHOD_MAP: Dict[str, List[str]] = {\n",
    "    'gnn': ['gatv2', 'gin'],\n",
    "    'hdc': ['neural_net', 'random_forest'],\n",
    "    'fp': ['neural_net', 'random_forest']\n",
    "}\n",
    "\n",
    "BASE_HPARAMS_MAP: Dict[str, List[str]] = {\n",
    "    'gnn': ['BATCH_SIZE', 'LEARNING_RATE'],\n",
    "    'fp': ['FINGERPRINT_SIZE', 'FINGERPRINT_RADIUS'],\n",
    "    'hdc': ['EMBEDDING_SIZE', 'NUM_LAYERS']\n",
    "}\n",
    "\n",
    "METRIC: str = 'f1'\n",
    "def get_metric(metrics: dict):\n",
    "    #return 1 - metrics[METRIC]\n",
    "    return metrics[METRIC]"
   ]
  },
  {
   "cell_type": "code",
   "execution_count": 72,
   "metadata": {},
   "outputs": [
    {
     "name": "stdout",
     "output_type": "stream",
     "text": [
      "traversing experiment namespaces...\n"
     ]
    },
    {
     "data": {
      "text/html": [
       "<pre style=\"white-space:pre;overflow-x:auto;line-height:normal;font-family:Menlo,'DejaVu Sans Mono',consolas,'Courier New',monospace\"><span style=\"font-weight: bold\">[</span>\n",
       "<span style=\"color: #7fbf7f; text-decoration-color: #7fbf7f\">│   </span><span style=\"color: #008000; text-decoration-color: #008000\">'/media/ssd/Programming/graph_hdc/graph_hdc/experiments/fingerprints/results/predict_molecules__gnn__clogp'</span>,\n",
       "<span style=\"color: #7fbf7f; text-decoration-color: #7fbf7f\">│   </span><span style=\"color: #008000; text-decoration-color: #008000\">'/media/ssd/Programming/graph_hdc/graph_hdc/experiments/fingerprints/results/predict_molecules__gnn__aqsoldb'</span>,\n",
       "<span style=\"color: #7fbf7f; text-decoration-color: #7fbf7f\">│   </span><span style=\"color: #008000; text-decoration-color: #008000\">'/media/ssd/Programming/graph_hdc/graph_hdc/experiments/fingerprints/results/predict_molecules__fp__conjugated'</span>,\n",
       "<span style=\"color: #7fbf7f; text-decoration-color: #7fbf7f\">│   </span><span style=\"color: #008000; text-decoration-color: #008000\">'/media/ssd/Programming/graph_hdc/graph_hdc/experiments/fingerprints/results/predict_molecules__hdc__qm9_smiles'</span>,\n",
       "<span style=\"color: #7fbf7f; text-decoration-color: #7fbf7f\">│   </span><span style=\"color: #008000; text-decoration-color: #008000\">'/media/ssd/Programming/graph_hdc/graph_hdc/experiments/fingerprints/results/predict_molecules__fp__bace'</span>,\n",
       "<span style=\"color: #7fbf7f; text-decoration-color: #7fbf7f\">│   </span><span style=\"color: #008000; text-decoration-color: #008000\">'/media/ssd/Programming/graph_hdc/graph_hdc/experiments/fingerprints/results/predict_molecules__fp__ames'</span>,\n",
       "<span style=\"color: #7fbf7f; text-decoration-color: #7fbf7f\">│   </span><span style=\"color: #008000; text-decoration-color: #008000\">'/media/ssd/Programming/graph_hdc/graph_hdc/experiments/fingerprints/results/predict_molecules__gnn__qm9_smiles'</span>,\n",
       "<span style=\"color: #7fbf7f; text-decoration-color: #7fbf7f\">│   </span><span style=\"color: #008000; text-decoration-color: #008000\">'/media/ssd/Programming/graph_hdc/graph_hdc/experiments/fingerprints/results/predict_molecules__fp__clogp'</span>,\n",
       "<span style=\"color: #7fbf7f; text-decoration-color: #7fbf7f\">│   </span><span style=\"color: #008000; text-decoration-color: #008000\">'/media/ssd/Programming/graph_hdc/graph_hdc/experiments/fingerprints/results/predict_molecules__hdc__bace'</span>,\n",
       "<span style=\"color: #7fbf7f; text-decoration-color: #7fbf7f\">│   </span><span style=\"color: #008000; text-decoration-color: #008000\">'/media/ssd/Programming/graph_hdc/graph_hdc/experiments/fingerprints/results/predict_molecules__gnn__bbbp'</span>,\n",
       "<span style=\"color: #7fbf7f; text-decoration-color: #7fbf7f\">│   </span><span style=\"color: #008000; text-decoration-color: #008000\">'/media/ssd/Programming/graph_hdc/graph_hdc/experiments/fingerprints/results/predict_molecules__fp__qm9_smiles'</span>,\n",
       "<span style=\"color: #7fbf7f; text-decoration-color: #7fbf7f\">│   </span><span style=\"color: #008000; text-decoration-color: #008000\">'/media/ssd/Programming/graph_hdc/graph_hdc/experiments/fingerprints/results/predict_molecules__hdc__clogp'</span>,\n",
       "<span style=\"color: #7fbf7f; text-decoration-color: #7fbf7f\">│   </span><span style=\"color: #008000; text-decoration-color: #008000\">'/media/ssd/Programming/graph_hdc/graph_hdc/experiments/fingerprints/results/predict_molecules__fp__aqsoldb'</span>,\n",
       "<span style=\"color: #7fbf7f; text-decoration-color: #7fbf7f\">│   </span><span style=\"color: #008000; text-decoration-color: #008000\">'/media/ssd/Programming/graph_hdc/graph_hdc/experiments/fingerprints/results/predict_molecules__fp__bbbp'</span>,\n",
       "<span style=\"color: #7fbf7f; text-decoration-color: #7fbf7f\">│   </span><span style=\"color: #008000; text-decoration-color: #008000\">'/media/ssd/Programming/graph_hdc/graph_hdc/experiments/fingerprints/results/predict_molecules__hdc__conjugated'</span>,\n",
       "<span style=\"color: #7fbf7f; text-decoration-color: #7fbf7f\">│   </span><span style=\"color: #008000; text-decoration-color: #008000\">'/media/ssd/Programming/graph_hdc/graph_hdc/experiments/fingerprints/results/predict_molecules__gnn__ames'</span>,\n",
       "<span style=\"color: #7fbf7f; text-decoration-color: #7fbf7f\">│   </span><span style=\"color: #008000; text-decoration-color: #008000\">'/media/ssd/Programming/graph_hdc/graph_hdc/experiments/fingerprints/results/predict_molecules__gnn__conjugated'</span>,\n",
       "<span style=\"color: #7fbf7f; text-decoration-color: #7fbf7f\">│   </span><span style=\"color: #008000; text-decoration-color: #008000\">'/media/ssd/Programming/graph_hdc/graph_hdc/experiments/fingerprints/results/predict_molecules__hdc__aqsoldb'</span>,\n",
       "<span style=\"color: #7fbf7f; text-decoration-color: #7fbf7f\">│   </span><span style=\"color: #008000; text-decoration-color: #008000\">'/media/ssd/Programming/graph_hdc/graph_hdc/experiments/fingerprints/results/predict_molecules__fp__conj'</span>,\n",
       "<span style=\"color: #7fbf7f; text-decoration-color: #7fbf7f\">│   </span><span style=\"color: #008000; text-decoration-color: #008000\">'/media/ssd/Programming/graph_hdc/graph_hdc/experiments/fingerprints/results/predict_molecules__hdc__bbbp'</span>,\n",
       "<span style=\"color: #7fbf7f; text-decoration-color: #7fbf7f\">│   </span><span style=\"color: #008000; text-decoration-color: #008000\">'/media/ssd/Programming/graph_hdc/graph_hdc/experiments/fingerprints/results/predict_molecules__hdc__ames'</span>,\n",
       "<span style=\"color: #7fbf7f; text-decoration-color: #7fbf7f\">│   </span><span style=\"color: #008000; text-decoration-color: #008000\">'/media/ssd/Programming/graph_hdc/graph_hdc/experiments/fingerprints/results/predict_molecules__gnn__bace'</span>\n",
       "<span style=\"font-weight: bold\">]</span>\n",
       "</pre>\n"
      ],
      "text/plain": [
       "\u001b[1m[\u001b[0m\n",
       "\u001b[2;32m│   \u001b[0m\u001b[32m'/media/ssd/Programming/graph_hdc/graph_hdc/experiments/fingerprints/results/predict_molecules__gnn__clogp'\u001b[0m,\n",
       "\u001b[2;32m│   \u001b[0m\u001b[32m'/media/ssd/Programming/graph_hdc/graph_hdc/experiments/fingerprints/results/predict_molecules__gnn__aqsoldb'\u001b[0m,\n",
       "\u001b[2;32m│   \u001b[0m\u001b[32m'/media/ssd/Programming/graph_hdc/graph_hdc/experiments/fingerprints/results/predict_molecules__fp__conjugated'\u001b[0m,\n",
       "\u001b[2;32m│   \u001b[0m\u001b[32m'/media/ssd/Programming/graph_hdc/graph_hdc/experiments/fingerprints/results/predict_molecules__hdc__qm9_smiles'\u001b[0m,\n",
       "\u001b[2;32m│   \u001b[0m\u001b[32m'/media/ssd/Programming/graph_hdc/graph_hdc/experiments/fingerprints/results/predict_molecules__fp__bace'\u001b[0m,\n",
       "\u001b[2;32m│   \u001b[0m\u001b[32m'/media/ssd/Programming/graph_hdc/graph_hdc/experiments/fingerprints/results/predict_molecules__fp__ames'\u001b[0m,\n",
       "\u001b[2;32m│   \u001b[0m\u001b[32m'/media/ssd/Programming/graph_hdc/graph_hdc/experiments/fingerprints/results/predict_molecules__gnn__qm9_smiles'\u001b[0m,\n",
       "\u001b[2;32m│   \u001b[0m\u001b[32m'/media/ssd/Programming/graph_hdc/graph_hdc/experiments/fingerprints/results/predict_molecules__fp__clogp'\u001b[0m,\n",
       "\u001b[2;32m│   \u001b[0m\u001b[32m'/media/ssd/Programming/graph_hdc/graph_hdc/experiments/fingerprints/results/predict_molecules__hdc__bace'\u001b[0m,\n",
       "\u001b[2;32m│   \u001b[0m\u001b[32m'/media/ssd/Programming/graph_hdc/graph_hdc/experiments/fingerprints/results/predict_molecules__gnn__bbbp'\u001b[0m,\n",
       "\u001b[2;32m│   \u001b[0m\u001b[32m'/media/ssd/Programming/graph_hdc/graph_hdc/experiments/fingerprints/results/predict_molecules__fp__qm9_smiles'\u001b[0m,\n",
       "\u001b[2;32m│   \u001b[0m\u001b[32m'/media/ssd/Programming/graph_hdc/graph_hdc/experiments/fingerprints/results/predict_molecules__hdc__clogp'\u001b[0m,\n",
       "\u001b[2;32m│   \u001b[0m\u001b[32m'/media/ssd/Programming/graph_hdc/graph_hdc/experiments/fingerprints/results/predict_molecules__fp__aqsoldb'\u001b[0m,\n",
       "\u001b[2;32m│   \u001b[0m\u001b[32m'/media/ssd/Programming/graph_hdc/graph_hdc/experiments/fingerprints/results/predict_molecules__fp__bbbp'\u001b[0m,\n",
       "\u001b[2;32m│   \u001b[0m\u001b[32m'/media/ssd/Programming/graph_hdc/graph_hdc/experiments/fingerprints/results/predict_molecules__hdc__conjugated'\u001b[0m,\n",
       "\u001b[2;32m│   \u001b[0m\u001b[32m'/media/ssd/Programming/graph_hdc/graph_hdc/experiments/fingerprints/results/predict_molecules__gnn__ames'\u001b[0m,\n",
       "\u001b[2;32m│   \u001b[0m\u001b[32m'/media/ssd/Programming/graph_hdc/graph_hdc/experiments/fingerprints/results/predict_molecules__gnn__conjugated'\u001b[0m,\n",
       "\u001b[2;32m│   \u001b[0m\u001b[32m'/media/ssd/Programming/graph_hdc/graph_hdc/experiments/fingerprints/results/predict_molecules__hdc__aqsoldb'\u001b[0m,\n",
       "\u001b[2;32m│   \u001b[0m\u001b[32m'/media/ssd/Programming/graph_hdc/graph_hdc/experiments/fingerprints/results/predict_molecules__fp__conj'\u001b[0m,\n",
       "\u001b[2;32m│   \u001b[0m\u001b[32m'/media/ssd/Programming/graph_hdc/graph_hdc/experiments/fingerprints/results/predict_molecules__hdc__bbbp'\u001b[0m,\n",
       "\u001b[2;32m│   \u001b[0m\u001b[32m'/media/ssd/Programming/graph_hdc/graph_hdc/experiments/fingerprints/results/predict_molecules__hdc__ames'\u001b[0m,\n",
       "\u001b[2;32m│   \u001b[0m\u001b[32m'/media/ssd/Programming/graph_hdc/graph_hdc/experiments/fingerprints/results/predict_molecules__gnn__bace'\u001b[0m\n",
       "\u001b[1m]\u001b[0m\n"
      ]
     },
     "metadata": {},
     "output_type": "display_data"
    },
    {
     "name": "stdout",
     "output_type": "stream",
     "text": [
      "traversing experiment paths...\n"
     ]
    },
    {
     "data": {
      "text/html": [
       "<pre style=\"white-space:pre;overflow-x:auto;line-height:normal;font-family:Menlo,'DejaVu Sans Mono',consolas,'Courier New',monospace\"><span style=\"font-weight: bold\">[</span>\n",
       "<span style=\"color: #7fbf7f; text-decoration-color: #7fbf7f\">│   </span><span style=\"color: #008000; text-decoration-color: #008000\">'/media/ssd/Programming/graph_hdc/graph_hdc/experiments/fingerprints/results/predict_molecules__gnn__clogp/ex_04_b__14_01_2025__15_27__xfya'</span>,\n",
       "<span style=\"color: #7fbf7f; text-decoration-color: #7fbf7f\">│   </span><span style=\"color: #008000; text-decoration-color: #008000\">'/media/ssd/Programming/graph_hdc/graph_hdc/experiments/fingerprints/results/predict_molecules__gnn__clogp/ex_04_b__14_01_2025__12_52__4QZd'</span>,\n",
       "<span style=\"color: #7fbf7f; text-decoration-color: #7fbf7f\">│   </span><span style=\"color: #008000; text-decoration-color: #008000\">'/media/ssd/Programming/graph_hdc/graph_hdc/experiments/fingerprints/results/predict_molecules__gnn__clogp/ex_04_b__14_01_2025__15_07__sxCW'</span>,\n",
       "<span style=\"color: #7fbf7f; text-decoration-color: #7fbf7f\">│   </span><span style=\"color: #008000; text-decoration-color: #008000\">'/media/ssd/Programming/graph_hdc/graph_hdc/experiments/fingerprints/results/predict_molecules__gnn__clogp/ex_04_b__14_01_2025__13_33__dsLN'</span>,\n",
       "<span style=\"color: #7fbf7f; text-decoration-color: #7fbf7f\">│   </span><span style=\"color: #008000; text-decoration-color: #008000\">'/media/ssd/Programming/graph_hdc/graph_hdc/experiments/fingerprints/results/predict_molecules__gnn__clogp/ex_04_b__14_01_2025__13_41__WB07'</span>,\n",
       "<span style=\"color: #7fbf7f; text-decoration-color: #7fbf7f\">│   </span><span style=\"color: #008000; text-decoration-color: #008000\">'/media/ssd/Programming/graph_hdc/graph_hdc/experiments/fingerprints/results/predict_molecules__gnn__clogp/ex_04_b__14_01_2025__15_17__eNpF'</span>,\n",
       "<span style=\"color: #7fbf7f; text-decoration-color: #7fbf7f\">│   </span><span style=\"color: #008000; text-decoration-color: #008000\">'/media/ssd/Programming/graph_hdc/graph_hdc/experiments/fingerprints/results/predict_molecules__gnn__clogp/ex_04_b__14_01_2025__13_29__nLly'</span>,\n",
       "<span style=\"color: #7fbf7f; text-decoration-color: #7fbf7f\">│   </span><span style=\"color: #008000; text-decoration-color: #008000\">'/media/ssd/Programming/graph_hdc/graph_hdc/experiments/fingerprints/results/predict_molecules__gnn__clogp/ex_04_b__14_01_2025__14_07__L8kH'</span>,\n",
       "<span style=\"color: #7fbf7f; text-decoration-color: #7fbf7f\">│   </span><span style=\"color: #008000; text-decoration-color: #008000\">'/media/ssd/Programming/graph_hdc/graph_hdc/experiments/fingerprints/results/predict_molecules__gnn__clogp/ex_04_b__14_01_2025__12_49__Rhmh'</span>,\n",
       "<span style=\"color: #7fbf7f; text-decoration-color: #7fbf7f\">│   </span><span style=\"color: #008000; text-decoration-color: #008000\">'/media/ssd/Programming/graph_hdc/graph_hdc/experiments/fingerprints/results/predict_molecules__gnn__clogp/ex_04_b__14_01_2025__14_42__zJ0B'</span>,\n",
       "<span style=\"color: #7fbf7f; text-decoration-color: #7fbf7f\">│   </span><span style=\"color: #808000; text-decoration-color: #808000\">...</span> +<span style=\"color: #008080; text-decoration-color: #008080; font-weight: bold\">843</span>\n",
       "<span style=\"font-weight: bold\">]</span>\n",
       "</pre>\n"
      ],
      "text/plain": [
       "\u001b[1m[\u001b[0m\n",
       "\u001b[2;32m│   \u001b[0m\u001b[32m'/media/ssd/Programming/graph_hdc/graph_hdc/experiments/fingerprints/results/predict_molecules__gnn__clogp/ex_04_b__14_01_2025__15_27__xfya'\u001b[0m,\n",
       "\u001b[2;32m│   \u001b[0m\u001b[32m'/media/ssd/Programming/graph_hdc/graph_hdc/experiments/fingerprints/results/predict_molecules__gnn__clogp/ex_04_b__14_01_2025__12_52__4QZd'\u001b[0m,\n",
       "\u001b[2;32m│   \u001b[0m\u001b[32m'/media/ssd/Programming/graph_hdc/graph_hdc/experiments/fingerprints/results/predict_molecules__gnn__clogp/ex_04_b__14_01_2025__15_07__sxCW'\u001b[0m,\n",
       "\u001b[2;32m│   \u001b[0m\u001b[32m'/media/ssd/Programming/graph_hdc/graph_hdc/experiments/fingerprints/results/predict_molecules__gnn__clogp/ex_04_b__14_01_2025__13_33__dsLN'\u001b[0m,\n",
       "\u001b[2;32m│   \u001b[0m\u001b[32m'/media/ssd/Programming/graph_hdc/graph_hdc/experiments/fingerprints/results/predict_molecules__gnn__clogp/ex_04_b__14_01_2025__13_41__WB07'\u001b[0m,\n",
       "\u001b[2;32m│   \u001b[0m\u001b[32m'/media/ssd/Programming/graph_hdc/graph_hdc/experiments/fingerprints/results/predict_molecules__gnn__clogp/ex_04_b__14_01_2025__15_17__eNpF'\u001b[0m,\n",
       "\u001b[2;32m│   \u001b[0m\u001b[32m'/media/ssd/Programming/graph_hdc/graph_hdc/experiments/fingerprints/results/predict_molecules__gnn__clogp/ex_04_b__14_01_2025__13_29__nLly'\u001b[0m,\n",
       "\u001b[2;32m│   \u001b[0m\u001b[32m'/media/ssd/Programming/graph_hdc/graph_hdc/experiments/fingerprints/results/predict_molecules__gnn__clogp/ex_04_b__14_01_2025__14_07__L8kH'\u001b[0m,\n",
       "\u001b[2;32m│   \u001b[0m\u001b[32m'/media/ssd/Programming/graph_hdc/graph_hdc/experiments/fingerprints/results/predict_molecules__gnn__clogp/ex_04_b__14_01_2025__12_49__Rhmh'\u001b[0m,\n",
       "\u001b[2;32m│   \u001b[0m\u001b[32m'/media/ssd/Programming/graph_hdc/graph_hdc/experiments/fingerprints/results/predict_molecules__gnn__clogp/ex_04_b__14_01_2025__14_42__zJ0B'\u001b[0m,\n",
       "\u001b[2;32m│   \u001b[0m\u001b[33m...\u001b[0m +\u001b[1;36m843\u001b[0m\n",
       "\u001b[1m]\u001b[0m\n"
      ]
     },
     "metadata": {},
     "output_type": "display_data"
    }
   ],
   "source": [
    "# ~ finding experiments\n",
    "\n",
    "print('traversing experiment namespaces...')\n",
    "experiment_namespace_paths: List[str] = [\n",
    "    path\n",
    "    for file in os.listdir(RESULTS_PATH)\n",
    "    if os.path.isdir(path := os.path.join(RESULTS_PATH, file))\n",
    "]\n",
    "pprint(experiment_namespace_paths)\n",
    "\n",
    "print('traversing experiment paths...')\n",
    "experiment_paths: List[str] = [\n",
    "    path\n",
    "    for folder_path in experiment_namespace_paths\n",
    "    for file in os.listdir(folder_path)\n",
    "    if os.path.isdir(path := os.path.join(folder_path, file))\n",
    "]\n",
    "pprint(experiment_paths, max_length=10)"
   ]
  },
  {
   "cell_type": "code",
   "execution_count": 73,
   "metadata": {},
   "outputs": [
    {
     "name": "stdout",
     "output_type": "stream",
     "text": [
      "no experiment data found at /media/ssd/Programming/graph_hdc/graph_hdc/experiments/fingerprints/results/predict_molecules__gnn__aqsoldb/debug/experiment_data.json\n",
      "no experiment data found at /media/ssd/Programming/graph_hdc/graph_hdc/experiments/fingerprints/results/predict_molecules__fp__conjugated/hyperopt_b__16_01_2025__08_56__Cv1n/experiment_data.json\n",
      "no experiment data found at /media/ssd/Programming/graph_hdc/graph_hdc/experiments/fingerprints/results/predict_molecules__fp__ames/debug/experiment_data.json\n",
      "no experiment data found at /media/ssd/Programming/graph_hdc/graph_hdc/experiments/fingerprints/results/predict_molecules__gnn__qm9_smiles/ex_01_a__10_01_2025__20_18__l2MR/experiment_data.json\n",
      "no experiment data found at /media/ssd/Programming/graph_hdc/graph_hdc/experiments/fingerprints/results/predict_molecules__gnn__qm9_smiles/ex_01_a__10_01_2025__21_18__xmQY/experiment_data.json\n",
      "no experiment data found at /media/ssd/Programming/graph_hdc/graph_hdc/experiments/fingerprints/results/predict_molecules__gnn__qm9_smiles/ex_01_a__10_01_2025__19_17__K6PZ/experiment_data.json\n",
      "no experiment data found at /media/ssd/Programming/graph_hdc/graph_hdc/experiments/fingerprints/results/predict_molecules__gnn__ames/ex_04_e__15_01_2025__09_00__MnVH/experiment_data.json\n",
      "no experiment data found at /media/ssd/Programming/graph_hdc/graph_hdc/experiments/fingerprints/results/predict_molecules__gnn__ames/debug/experiment_data.json\n",
      "loaded 111 experiments in 1.4 seconds\n"
     ]
    }
   ],
   "source": [
    "import json\n",
    "\n",
    "# ~ loading experiments\n",
    "# Now that we have the paths to all the experiment archive folders, we can now actually \n",
    "# load them back into memory\n",
    "experiments: List[Experiment] = []\n",
    "\n",
    "time_start = time.time()\n",
    "for path in experiment_paths:\n",
    "    \n",
    "    experiment_data_path = os.path.join(path, 'experiment_data.json')\n",
    "    if not os.path.exists(experiment_data_path):\n",
    "        print(f'no experiment data found at {experiment_data_path}')\n",
    "        continue\n",
    "    \n",
    "    experiment_meta_path = os.path.join(path, 'experiment_meta.json')\n",
    "    with open(experiment_meta_path, 'r') as file:\n",
    "        metadata: dict = json.loads(file.read())\n",
    "        parameters: dict = metadata['parameters']\n",
    "    \n",
    "    # We want to match a specific identifier\n",
    "    if parameters['IDENTIFIER']['value'] not in IDENTIFIERS:\n",
    "        continue\n",
    "    \n",
    "    experiment = Experiment.load(path)\n",
    "    experiments.append(experiment)\n",
    "    \n",
    "time_end = time.time()\n",
    "    \n",
    "print(f'loaded {len(experiments)} experiments in {time_end - time_start:.1f} seconds')"
   ]
  },
  {
   "cell_type": "code",
   "execution_count": 74,
   "metadata": {},
   "outputs": [
    {
     "name": "stdout",
     "output_type": "stream",
     "text": [
      "example experiment data:\n"
     ]
    },
    {
     "data": {
      "text/html": [
       "<pre style=\"white-space:pre;overflow-x:auto;line-height:normal;font-family:Menlo,'DejaVu Sans Mono',consolas,'Courier New',monospace\"><span style=\"font-weight: bold\">{</span>\n",
       "<span style=\"color: #7fbf7f; text-decoration-color: #7fbf7f\">│   </span><span style=\"color: #008000; text-decoration-color: #008000\">'indices'</span>: <span style=\"font-weight: bold\">{</span>\n",
       "<span style=\"color: #7fbf7f; text-decoration-color: #7fbf7f\">│   │   </span><span style=\"color: #008000; text-decoration-color: #008000\">'train'</span>: <span style=\"font-weight: bold\">[</span><span style=\"color: #008080; text-decoration-color: #008080; font-weight: bold\">9335</span>, <span style=\"color: #008080; text-decoration-color: #008080; font-weight: bold\">5746</span>, <span style=\"color: #008080; text-decoration-color: #008080; font-weight: bold\">5145</span>, <span style=\"color: #008080; text-decoration-color: #008080; font-weight: bold\">9583</span>, <span style=\"color: #008080; text-decoration-color: #008080; font-weight: bold\">7489</span>, <span style=\"color: #008080; text-decoration-color: #008080; font-weight: bold\">9880</span>, <span style=\"color: #008080; text-decoration-color: #008080; font-weight: bold\">9439</span>, <span style=\"color: #008080; text-decoration-color: #008080; font-weight: bold\">7435</span>, <span style=\"color: #008080; text-decoration-color: #008080; font-weight: bold\">5606</span>, <span style=\"color: #008080; text-decoration-color: #008080; font-weight: bold\">8225</span>, <span style=\"color: #008080; text-decoration-color: #008080; font-weight: bold\">5499</span>, <span style=\"color: #008080; text-decoration-color: #008080; font-weight: bold\">2382</span>, <span style=\"color: #808000; text-decoration-color: #808000\">...</span> +<span style=\"color: #008080; text-decoration-color: #008080; font-weight: bold\">8788</span><span style=\"font-weight: bold\">]</span>,\n",
       "<span style=\"color: #7fbf7f; text-decoration-color: #7fbf7f\">│   │   </span><span style=\"color: #008000; text-decoration-color: #008000\">'val'</span>: <span style=\"font-weight: bold\">[</span><span style=\"color: #008080; text-decoration-color: #008080; font-weight: bold\">733</span>, <span style=\"color: #008080; text-decoration-color: #008080; font-weight: bold\">6393</span>, <span style=\"color: #008080; text-decoration-color: #008080; font-weight: bold\">8325</span>, <span style=\"color: #008080; text-decoration-color: #008080; font-weight: bold\">112</span>, <span style=\"color: #008080; text-decoration-color: #008080; font-weight: bold\">3443</span>, <span style=\"color: #008080; text-decoration-color: #008080; font-weight: bold\">5448</span>, <span style=\"color: #008080; text-decoration-color: #008080; font-weight: bold\">98</span>, <span style=\"color: #008080; text-decoration-color: #008080; font-weight: bold\">9848</span>, <span style=\"color: #008080; text-decoration-color: #008080; font-weight: bold\">2186</span>, <span style=\"color: #008080; text-decoration-color: #008080; font-weight: bold\">5506</span><span style=\"font-weight: bold\">]</span>,\n",
       "<span style=\"color: #7fbf7f; text-decoration-color: #7fbf7f\">│   │   </span><span style=\"color: #008000; text-decoration-color: #008000\">'test'</span>: <span style=\"font-weight: bold\">[</span><span style=\"color: #008080; text-decoration-color: #008080; font-weight: bold\">2201</span>, <span style=\"color: #008080; text-decoration-color: #008080; font-weight: bold\">9327</span>, <span style=\"color: #008080; text-decoration-color: #008080; font-weight: bold\">1033</span>, <span style=\"color: #008080; text-decoration-color: #008080; font-weight: bold\">4179</span>, <span style=\"color: #008080; text-decoration-color: #008080; font-weight: bold\">1931</span>, <span style=\"color: #008080; text-decoration-color: #008080; font-weight: bold\">8119</span>, <span style=\"color: #008080; text-decoration-color: #008080; font-weight: bold\">7366</span>, <span style=\"color: #008080; text-decoration-color: #008080; font-weight: bold\">7739</span>, <span style=\"color: #008080; text-decoration-color: #008080; font-weight: bold\">6219</span>, <span style=\"color: #008080; text-decoration-color: #008080; font-weight: bold\">3439</span>, <span style=\"color: #008080; text-decoration-color: #008080; font-weight: bold\">1537</span>, <span style=\"color: #008080; text-decoration-color: #008080; font-weight: bold\">7995</span>, <span style=\"color: #808000; text-decoration-color: #808000\">...</span> +<span style=\"color: #008080; text-decoration-color: #008080; font-weight: bold\">976</span><span style=\"font-weight: bold\">]</span>\n",
       "<span style=\"color: #7fbf7f; text-decoration-color: #7fbf7f\">│   </span><span style=\"font-weight: bold\">}</span>,\n",
       "<span style=\"color: #7fbf7f; text-decoration-color: #7fbf7f\">│   </span><span style=\"color: #008000; text-decoration-color: #008000\">'train_time'</span>: <span style=\"font-weight: bold\">{</span>\n",
       "<span style=\"color: #7fbf7f; text-decoration-color: #7fbf7f\">│   │   </span><span style=\"color: #008000; text-decoration-color: #008000\">'random_forest'</span>: <span style=\"color: #008080; text-decoration-color: #008080; font-weight: bold\">1.2246356010437012</span>,\n",
       "<span style=\"color: #7fbf7f; text-decoration-color: #7fbf7f\">│   │   </span><span style=\"color: #008000; text-decoration-color: #008000\">'grad_boost'</span>: <span style=\"color: #008080; text-decoration-color: #008080; font-weight: bold\">6.266566753387451</span>,\n",
       "<span style=\"color: #7fbf7f; text-decoration-color: #7fbf7f\">│   │   </span><span style=\"color: #008000; text-decoration-color: #008000\">'neural_net'</span>: <span style=\"color: #008080; text-decoration-color: #008080; font-weight: bold\">65.70409560203552</span>,\n",
       "<span style=\"color: #7fbf7f; text-decoration-color: #7fbf7f\">│   │   </span><span style=\"color: #008000; text-decoration-color: #008000\">'support_vector'</span>: <span style=\"color: #008080; text-decoration-color: #008080; font-weight: bold\">120.1247251033783</span>\n",
       "<span style=\"color: #7fbf7f; text-decoration-color: #7fbf7f\">│   </span><span style=\"font-weight: bold\">}</span>,\n",
       "<span style=\"color: #7fbf7f; text-decoration-color: #7fbf7f\">│   </span><span style=\"color: #008000; text-decoration-color: #008000\">'metrics'</span>: <span style=\"font-weight: bold\">{</span>\n",
       "<span style=\"color: #7fbf7f; text-decoration-color: #7fbf7f\">│   │   </span><span style=\"color: #008000; text-decoration-color: #008000\">'test_random_forest'</span>: <span style=\"font-weight: bold\">{</span>\n",
       "<span style=\"color: #7fbf7f; text-decoration-color: #7fbf7f\">│   │   │   </span><span style=\"color: #008000; text-decoration-color: #008000\">'acc'</span>: <span style=\"color: #008080; text-decoration-color: #008080; font-weight: bold\">0.9433198380566802</span>,\n",
       "<span style=\"color: #7fbf7f; text-decoration-color: #7fbf7f\">│   │   │   </span><span style=\"color: #008000; text-decoration-color: #008000\">'f1'</span>: <span style=\"color: #008080; text-decoration-color: #008080; font-weight: bold\">0.48541666666666666</span>,\n",
       "<span style=\"color: #7fbf7f; text-decoration-color: #7fbf7f\">│   │   │   </span><span style=\"color: #008000; text-decoration-color: #008000\">'ap'</span>: <span style=\"color: #008080; text-decoration-color: #008080; font-weight: bold\">0.05668016194331984</span>,\n",
       "<span style=\"color: #7fbf7f; text-decoration-color: #7fbf7f\">│   │   │   </span><span style=\"color: #008000; text-decoration-color: #008000\">'log_loss'</span>: <span style=\"color: #008080; text-decoration-color: #008080; font-weight: bold\">0.1739153223122866</span>,\n",
       "<span style=\"color: #7fbf7f; text-decoration-color: #7fbf7f\">│   │   │   </span><span style=\"color: #008000; text-decoration-color: #008000\">'mse'</span>: <span style=\"color: #008080; text-decoration-color: #008080; font-weight: bold\">0.04760342360793367</span>\n",
       "<span style=\"color: #7fbf7f; text-decoration-color: #7fbf7f\">│   │   </span><span style=\"font-weight: bold\">}</span>,\n",
       "<span style=\"color: #7fbf7f; text-decoration-color: #7fbf7f\">│   │   </span><span style=\"color: #008000; text-decoration-color: #008000\">'test_grad_boost'</span>: <span style=\"font-weight: bold\">{</span>\n",
       "<span style=\"color: #7fbf7f; text-decoration-color: #7fbf7f\">│   │   │   </span><span style=\"color: #008000; text-decoration-color: #008000\">'acc'</span>: <span style=\"color: #008080; text-decoration-color: #008080; font-weight: bold\">0.9453441295546559</span>,\n",
       "<span style=\"color: #7fbf7f; text-decoration-color: #7fbf7f\">│   │   │   </span><span style=\"color: #008000; text-decoration-color: #008000\">'f1'</span>: <span style=\"color: #008080; text-decoration-color: #008080; font-weight: bold\">0.5204055949084895</span>,\n",
       "<span style=\"color: #7fbf7f; text-decoration-color: #7fbf7f\">│   │   │   </span><span style=\"color: #008000; text-decoration-color: #008000\">'ap'</span>: <span style=\"color: #008080; text-decoration-color: #008080; font-weight: bold\">0.09037015615962984</span>,\n",
       "<span style=\"color: #7fbf7f; text-decoration-color: #7fbf7f\">│   │   │   </span><span style=\"color: #008000; text-decoration-color: #008000\">'log_loss'</span>: <span style=\"color: #008080; text-decoration-color: #008080; font-weight: bold\">0.1629787151995279</span>,\n",
       "<span style=\"color: #7fbf7f; text-decoration-color: #7fbf7f\">│   │   │   </span><span style=\"color: #008000; text-decoration-color: #008000\">'mse'</span>: <span style=\"color: #008080; text-decoration-color: #008080; font-weight: bold\">0.04192947098372066</span>\n",
       "<span style=\"color: #7fbf7f; text-decoration-color: #7fbf7f\">│   │   </span><span style=\"font-weight: bold\">}</span>,\n",
       "<span style=\"color: #7fbf7f; text-decoration-color: #7fbf7f\">│   │   </span><span style=\"color: #008000; text-decoration-color: #008000\">'test_k_neighbors'</span>: <span style=\"font-weight: bold\">{</span>\n",
       "<span style=\"color: #7fbf7f; text-decoration-color: #7fbf7f\">│   │   │   </span><span style=\"color: #008000; text-decoration-color: #008000\">'acc'</span>: <span style=\"color: #008080; text-decoration-color: #008080; font-weight: bold\">0.9473684210526315</span>,\n",
       "<span style=\"color: #7fbf7f; text-decoration-color: #7fbf7f\">│   │   │   </span><span style=\"color: #008000; text-decoration-color: #008000\">'f1'</span>: <span style=\"color: #008080; text-decoration-color: #008080; font-weight: bold\">0.7795967395967396</span>,\n",
       "<span style=\"color: #7fbf7f; text-decoration-color: #7fbf7f\">│   │   │   </span><span style=\"color: #008000; text-decoration-color: #008000\">'ap'</span>: <span style=\"color: #008080; text-decoration-color: #008080; font-weight: bold\">0.36846546310832023</span>,\n",
       "<span style=\"color: #7fbf7f; text-decoration-color: #7fbf7f\">│   │   │   </span><span style=\"color: #008000; text-decoration-color: #008000\">'log_loss'</span>: <span style=\"color: #008080; text-decoration-color: #008080; font-weight: bold\">0.5175489185358629</span>,\n",
       "<span style=\"color: #7fbf7f; text-decoration-color: #7fbf7f\">│   │   │   </span><span style=\"color: #008000; text-decoration-color: #008000\">'mse'</span>: <span style=\"color: #008080; text-decoration-color: #008080; font-weight: bold\">0.03981106612685558</span>\n",
       "<span style=\"color: #7fbf7f; text-decoration-color: #7fbf7f\">│   │   </span><span style=\"font-weight: bold\">}</span>,\n",
       "<span style=\"color: #7fbf7f; text-decoration-color: #7fbf7f\">│   │   </span><span style=\"color: #008000; text-decoration-color: #008000\">'test_neural_net'</span>: <span style=\"font-weight: bold\">{</span>\n",
       "<span style=\"color: #7fbf7f; text-decoration-color: #7fbf7f\">│   │   │   </span><span style=\"color: #008000; text-decoration-color: #008000\">'acc'</span>: <span style=\"color: #008080; text-decoration-color: #008080; font-weight: bold\">0.97165991902834</span>,\n",
       "<span style=\"color: #7fbf7f; text-decoration-color: #7fbf7f\">│   │   │   </span><span style=\"color: #008000; text-decoration-color: #008000\">'f1'</span>: <span style=\"color: #008080; text-decoration-color: #008080; font-weight: bold\">0.857905982905983</span>,\n",
       "<span style=\"color: #7fbf7f; text-decoration-color: #7fbf7f\">│   │   │   </span><span style=\"color: #008000; text-decoration-color: #008000\">'ap'</span>: <span style=\"color: #008080; text-decoration-color: #008080; font-weight: bold\">0.5554210044341623</span>,\n",
       "<span style=\"color: #7fbf7f; text-decoration-color: #7fbf7f\">│   │   │   </span><span style=\"color: #008000; text-decoration-color: #008000\">'log_loss'</span>: <span style=\"color: #008080; text-decoration-color: #008080; font-weight: bold\">0.09491917842095607</span>,\n",
       "<span style=\"color: #7fbf7f; text-decoration-color: #7fbf7f\">│   │   │   </span><span style=\"color: #008000; text-decoration-color: #008000\">'mse'</span>: <span style=\"color: #008080; text-decoration-color: #008080; font-weight: bold\">0.02197874593401418</span>\n",
       "<span style=\"color: #7fbf7f; text-decoration-color: #7fbf7f\">│   │   </span><span style=\"font-weight: bold\">}</span>,\n",
       "<span style=\"color: #7fbf7f; text-decoration-color: #7fbf7f\">│   │   </span><span style=\"color: #008000; text-decoration-color: #008000\">'test_support_vector'</span>: <span style=\"font-weight: bold\">{</span>\n",
       "<span style=\"color: #7fbf7f; text-decoration-color: #7fbf7f\">│   │   │   </span><span style=\"color: #008000; text-decoration-color: #008000\">'acc'</span>: <span style=\"color: #008080; text-decoration-color: #008080; font-weight: bold\">0.9676113360323887</span>,\n",
       "<span style=\"color: #7fbf7f; text-decoration-color: #7fbf7f\">│   │   │   </span><span style=\"color: #008000; text-decoration-color: #008000\">'f1'</span>: <span style=\"color: #008080; text-decoration-color: #008080; font-weight: bold\">0.821285639993669</span>,\n",
       "<span style=\"color: #7fbf7f; text-decoration-color: #7fbf7f\">│   │   │   </span><span style=\"color: #008000; text-decoration-color: #008000\">'ap'</span>: <span style=\"color: #008080; text-decoration-color: #008080; font-weight: bold\">0.4769013880855986</span>,\n",
       "<span style=\"color: #7fbf7f; text-decoration-color: #7fbf7f\">│   │   │   </span><span style=\"color: #008000; text-decoration-color: #008000\">'log_loss'</span>: <span style=\"color: #008080; text-decoration-color: #008080; font-weight: bold\">0.16274284301428973</span>,\n",
       "<span style=\"color: #7fbf7f; text-decoration-color: #7fbf7f\">│   │   │   </span><span style=\"color: #008000; text-decoration-color: #008000\">'mse'</span>: <span style=\"color: #008080; text-decoration-color: #008080; font-weight: bold\">0.03726976083449034</span>\n",
       "<span style=\"color: #7fbf7f; text-decoration-color: #7fbf7f\">│   │   </span><span style=\"font-weight: bold\">}</span>\n",
       "<span style=\"color: #7fbf7f; text-decoration-color: #7fbf7f\">│   </span><span style=\"font-weight: bold\">}</span>\n",
       "<span style=\"font-weight: bold\">}</span>\n",
       "</pre>\n"
      ],
      "text/plain": [
       "\u001b[1m{\u001b[0m\n",
       "\u001b[2;32m│   \u001b[0m\u001b[32m'indices'\u001b[0m: \u001b[1m{\u001b[0m\n",
       "\u001b[2;32m│   │   \u001b[0m\u001b[32m'train'\u001b[0m: \u001b[1m[\u001b[0m\u001b[1;36m9335\u001b[0m, \u001b[1;36m5746\u001b[0m, \u001b[1;36m5145\u001b[0m, \u001b[1;36m9583\u001b[0m, \u001b[1;36m7489\u001b[0m, \u001b[1;36m9880\u001b[0m, \u001b[1;36m9439\u001b[0m, \u001b[1;36m7435\u001b[0m, \u001b[1;36m5606\u001b[0m, \u001b[1;36m8225\u001b[0m, \u001b[1;36m5499\u001b[0m, \u001b[1;36m2382\u001b[0m, \u001b[33m...\u001b[0m +\u001b[1;36m8788\u001b[0m\u001b[1m]\u001b[0m,\n",
       "\u001b[2;32m│   │   \u001b[0m\u001b[32m'val'\u001b[0m: \u001b[1m[\u001b[0m\u001b[1;36m733\u001b[0m, \u001b[1;36m6393\u001b[0m, \u001b[1;36m8325\u001b[0m, \u001b[1;36m112\u001b[0m, \u001b[1;36m3443\u001b[0m, \u001b[1;36m5448\u001b[0m, \u001b[1;36m98\u001b[0m, \u001b[1;36m9848\u001b[0m, \u001b[1;36m2186\u001b[0m, \u001b[1;36m5506\u001b[0m\u001b[1m]\u001b[0m,\n",
       "\u001b[2;32m│   │   \u001b[0m\u001b[32m'test'\u001b[0m: \u001b[1m[\u001b[0m\u001b[1;36m2201\u001b[0m, \u001b[1;36m9327\u001b[0m, \u001b[1;36m1033\u001b[0m, \u001b[1;36m4179\u001b[0m, \u001b[1;36m1931\u001b[0m, \u001b[1;36m8119\u001b[0m, \u001b[1;36m7366\u001b[0m, \u001b[1;36m7739\u001b[0m, \u001b[1;36m6219\u001b[0m, \u001b[1;36m3439\u001b[0m, \u001b[1;36m1537\u001b[0m, \u001b[1;36m7995\u001b[0m, \u001b[33m...\u001b[0m +\u001b[1;36m976\u001b[0m\u001b[1m]\u001b[0m\n",
       "\u001b[2;32m│   \u001b[0m\u001b[1m}\u001b[0m,\n",
       "\u001b[2;32m│   \u001b[0m\u001b[32m'train_time'\u001b[0m: \u001b[1m{\u001b[0m\n",
       "\u001b[2;32m│   │   \u001b[0m\u001b[32m'random_forest'\u001b[0m: \u001b[1;36m1.2246356010437012\u001b[0m,\n",
       "\u001b[2;32m│   │   \u001b[0m\u001b[32m'grad_boost'\u001b[0m: \u001b[1;36m6.266566753387451\u001b[0m,\n",
       "\u001b[2;32m│   │   \u001b[0m\u001b[32m'neural_net'\u001b[0m: \u001b[1;36m65.70409560203552\u001b[0m,\n",
       "\u001b[2;32m│   │   \u001b[0m\u001b[32m'support_vector'\u001b[0m: \u001b[1;36m120.1247251033783\u001b[0m\n",
       "\u001b[2;32m│   \u001b[0m\u001b[1m}\u001b[0m,\n",
       "\u001b[2;32m│   \u001b[0m\u001b[32m'metrics'\u001b[0m: \u001b[1m{\u001b[0m\n",
       "\u001b[2;32m│   │   \u001b[0m\u001b[32m'test_random_forest'\u001b[0m: \u001b[1m{\u001b[0m\n",
       "\u001b[2;32m│   │   │   \u001b[0m\u001b[32m'acc'\u001b[0m: \u001b[1;36m0.9433198380566802\u001b[0m,\n",
       "\u001b[2;32m│   │   │   \u001b[0m\u001b[32m'f1'\u001b[0m: \u001b[1;36m0.48541666666666666\u001b[0m,\n",
       "\u001b[2;32m│   │   │   \u001b[0m\u001b[32m'ap'\u001b[0m: \u001b[1;36m0.05668016194331984\u001b[0m,\n",
       "\u001b[2;32m│   │   │   \u001b[0m\u001b[32m'log_loss'\u001b[0m: \u001b[1;36m0.1739153223122866\u001b[0m,\n",
       "\u001b[2;32m│   │   │   \u001b[0m\u001b[32m'mse'\u001b[0m: \u001b[1;36m0.04760342360793367\u001b[0m\n",
       "\u001b[2;32m│   │   \u001b[0m\u001b[1m}\u001b[0m,\n",
       "\u001b[2;32m│   │   \u001b[0m\u001b[32m'test_grad_boost'\u001b[0m: \u001b[1m{\u001b[0m\n",
       "\u001b[2;32m│   │   │   \u001b[0m\u001b[32m'acc'\u001b[0m: \u001b[1;36m0.9453441295546559\u001b[0m,\n",
       "\u001b[2;32m│   │   │   \u001b[0m\u001b[32m'f1'\u001b[0m: \u001b[1;36m0.5204055949084895\u001b[0m,\n",
       "\u001b[2;32m│   │   │   \u001b[0m\u001b[32m'ap'\u001b[0m: \u001b[1;36m0.09037015615962984\u001b[0m,\n",
       "\u001b[2;32m│   │   │   \u001b[0m\u001b[32m'log_loss'\u001b[0m: \u001b[1;36m0.1629787151995279\u001b[0m,\n",
       "\u001b[2;32m│   │   │   \u001b[0m\u001b[32m'mse'\u001b[0m: \u001b[1;36m0.04192947098372066\u001b[0m\n",
       "\u001b[2;32m│   │   \u001b[0m\u001b[1m}\u001b[0m,\n",
       "\u001b[2;32m│   │   \u001b[0m\u001b[32m'test_k_neighbors'\u001b[0m: \u001b[1m{\u001b[0m\n",
       "\u001b[2;32m│   │   │   \u001b[0m\u001b[32m'acc'\u001b[0m: \u001b[1;36m0.9473684210526315\u001b[0m,\n",
       "\u001b[2;32m│   │   │   \u001b[0m\u001b[32m'f1'\u001b[0m: \u001b[1;36m0.7795967395967396\u001b[0m,\n",
       "\u001b[2;32m│   │   │   \u001b[0m\u001b[32m'ap'\u001b[0m: \u001b[1;36m0.36846546310832023\u001b[0m,\n",
       "\u001b[2;32m│   │   │   \u001b[0m\u001b[32m'log_loss'\u001b[0m: \u001b[1;36m0.5175489185358629\u001b[0m,\n",
       "\u001b[2;32m│   │   │   \u001b[0m\u001b[32m'mse'\u001b[0m: \u001b[1;36m0.03981106612685558\u001b[0m\n",
       "\u001b[2;32m│   │   \u001b[0m\u001b[1m}\u001b[0m,\n",
       "\u001b[2;32m│   │   \u001b[0m\u001b[32m'test_neural_net'\u001b[0m: \u001b[1m{\u001b[0m\n",
       "\u001b[2;32m│   │   │   \u001b[0m\u001b[32m'acc'\u001b[0m: \u001b[1;36m0.97165991902834\u001b[0m,\n",
       "\u001b[2;32m│   │   │   \u001b[0m\u001b[32m'f1'\u001b[0m: \u001b[1;36m0.857905982905983\u001b[0m,\n",
       "\u001b[2;32m│   │   │   \u001b[0m\u001b[32m'ap'\u001b[0m: \u001b[1;36m0.5554210044341623\u001b[0m,\n",
       "\u001b[2;32m│   │   │   \u001b[0m\u001b[32m'log_loss'\u001b[0m: \u001b[1;36m0.09491917842095607\u001b[0m,\n",
       "\u001b[2;32m│   │   │   \u001b[0m\u001b[32m'mse'\u001b[0m: \u001b[1;36m0.02197874593401418\u001b[0m\n",
       "\u001b[2;32m│   │   \u001b[0m\u001b[1m}\u001b[0m,\n",
       "\u001b[2;32m│   │   \u001b[0m\u001b[32m'test_support_vector'\u001b[0m: \u001b[1m{\u001b[0m\n",
       "\u001b[2;32m│   │   │   \u001b[0m\u001b[32m'acc'\u001b[0m: \u001b[1;36m0.9676113360323887\u001b[0m,\n",
       "\u001b[2;32m│   │   │   \u001b[0m\u001b[32m'f1'\u001b[0m: \u001b[1;36m0.821285639993669\u001b[0m,\n",
       "\u001b[2;32m│   │   │   \u001b[0m\u001b[32m'ap'\u001b[0m: \u001b[1;36m0.4769013880855986\u001b[0m,\n",
       "\u001b[2;32m│   │   │   \u001b[0m\u001b[32m'log_loss'\u001b[0m: \u001b[1;36m0.16274284301428973\u001b[0m,\n",
       "\u001b[2;32m│   │   │   \u001b[0m\u001b[32m'mse'\u001b[0m: \u001b[1;36m0.03726976083449034\u001b[0m\n",
       "\u001b[2;32m│   │   \u001b[0m\u001b[1m}\u001b[0m\n",
       "\u001b[2;32m│   \u001b[0m\u001b[1m}\u001b[0m\n",
       "\u001b[1m}\u001b[0m\n"
      ]
     },
     "metadata": {},
     "output_type": "display_data"
    }
   ],
   "source": [
    "print('example experiment data:')\n",
    "example_experiment = experiments[0]\n",
    "pprint(experiments[0].data, max_length=12)"
   ]
  },
  {
   "cell_type": "code",
   "execution_count": 75,
   "metadata": {},
   "outputs": [
    {
     "data": {
      "text/html": [
       "<pre style=\"white-space:pre;overflow-x:auto;line-height:normal;font-family:Menlo,'DejaVu Sans Mono',consolas,'Courier New',monospace\"><span style=\"color: #800080; text-decoration-color: #800080; font-weight: bold\">defaultdict</span><span style=\"font-weight: bold\">(&lt;</span><span style=\"color: #ff00ff; text-decoration-color: #ff00ff; font-weight: bold\">class</span><span style=\"color: #000000; text-decoration-color: #000000\"> </span><span style=\"color: #008000; text-decoration-color: #008000\">'list'</span><span style=\"color: #000000; text-decoration-color: #000000\">&gt;, </span><span style=\"color: #000000; text-decoration-color: #000000; font-weight: bold\">{</span>\n",
       "<span style=\"color: #7fbf7f; text-decoration-color: #7fbf7f\">│   </span><span style=\"color: #000000; text-decoration-color: #000000; font-weight: bold\">(</span><span style=\"color: #008000; text-decoration-color: #008000\">'fp'</span><span style=\"color: #000000; text-decoration-color: #000000\">, </span><span style=\"color: #008000; text-decoration-color: #008000\">'neural_net'</span><span style=\"color: #000000; text-decoration-color: #000000; font-weight: bold\">)</span><span style=\"color: #000000; text-decoration-color: #000000\">: </span><span style=\"color: #000000; text-decoration-color: #000000; font-weight: bold\">[</span>\n",
       "<span style=\"color: #7fbf7f; text-decoration-color: #7fbf7f\">│   │   </span><span style=\"color: #000000; text-decoration-color: #000000\">&lt;pycomex.functional.experiment.Experiment object at </span><span style=\"color: #008080; text-decoration-color: #008080; font-weight: bold\">0x71af4c2895d0</span><span style=\"color: #000000; text-decoration-color: #000000\">&gt;,</span>\n",
       "<span style=\"color: #7fbf7f; text-decoration-color: #7fbf7f\">│   │   </span><span style=\"color: #000000; text-decoration-color: #000000\">&lt;pycomex.functional.experiment.Experiment object at </span><span style=\"color: #008080; text-decoration-color: #008080; font-weight: bold\">0x71af2e4f21d0</span><span style=\"color: #000000; text-decoration-color: #000000\">&gt;,</span>\n",
       "<span style=\"color: #7fbf7f; text-decoration-color: #7fbf7f\">│   │   </span><span style=\"color: #000000; text-decoration-color: #000000\">&lt;pycomex.functional.experiment.Experiment object at </span><span style=\"color: #008080; text-decoration-color: #008080; font-weight: bold\">0x71af2e4f3a90</span><span style=\"color: #000000; text-decoration-color: #000000\">&gt;,</span>\n",
       "<span style=\"color: #7fbf7f; text-decoration-color: #7fbf7f\">│   │   </span><span style=\"color: #000000; text-decoration-color: #000000\">&lt;pycomex.functional.experiment.Experiment object at </span><span style=\"color: #008080; text-decoration-color: #008080; font-weight: bold\">0x71af2e4f3160</span><span style=\"color: #000000; text-decoration-color: #000000\">&gt;,</span>\n",
       "<span style=\"color: #7fbf7f; text-decoration-color: #7fbf7f\">│   │   </span><span style=\"color: #000000; text-decoration-color: #000000\">&lt;pycomex.functional.experiment.Experiment object at </span><span style=\"color: #008080; text-decoration-color: #008080; font-weight: bold\">0x71af2e4f0160</span><span style=\"color: #000000; text-decoration-color: #000000\">&gt;,</span>\n",
       "<span style=\"color: #7fbf7f; text-decoration-color: #7fbf7f\">│   │   </span><span style=\"color: #808000; text-decoration-color: #808000\">...</span><span style=\"color: #000000; text-decoration-color: #000000\"> +</span><span style=\"color: #008080; text-decoration-color: #008080; font-weight: bold\">34</span>\n",
       "<span style=\"color: #7fbf7f; text-decoration-color: #7fbf7f\">│   </span><span style=\"color: #000000; text-decoration-color: #000000; font-weight: bold\">]</span><span style=\"color: #000000; text-decoration-color: #000000\">,</span>\n",
       "<span style=\"color: #7fbf7f; text-decoration-color: #7fbf7f\">│   </span><span style=\"color: #000000; text-decoration-color: #000000; font-weight: bold\">(</span><span style=\"color: #008000; text-decoration-color: #008000\">'fp'</span><span style=\"color: #000000; text-decoration-color: #000000\">, </span><span style=\"color: #008000; text-decoration-color: #008000\">'random_forest'</span><span style=\"color: #000000; text-decoration-color: #000000; font-weight: bold\">)</span><span style=\"color: #000000; text-decoration-color: #000000\">: </span><span style=\"color: #000000; text-decoration-color: #000000; font-weight: bold\">[</span>\n",
       "<span style=\"color: #7fbf7f; text-decoration-color: #7fbf7f\">│   │   </span><span style=\"color: #000000; text-decoration-color: #000000\">&lt;pycomex.functional.experiment.Experiment object at </span><span style=\"color: #008080; text-decoration-color: #008080; font-weight: bold\">0x71af4c2895d0</span><span style=\"color: #000000; text-decoration-color: #000000\">&gt;,</span>\n",
       "<span style=\"color: #7fbf7f; text-decoration-color: #7fbf7f\">│   │   </span><span style=\"color: #000000; text-decoration-color: #000000\">&lt;pycomex.functional.experiment.Experiment object at </span><span style=\"color: #008080; text-decoration-color: #008080; font-weight: bold\">0x71af2e4f21d0</span><span style=\"color: #000000; text-decoration-color: #000000\">&gt;,</span>\n",
       "<span style=\"color: #7fbf7f; text-decoration-color: #7fbf7f\">│   │   </span><span style=\"color: #000000; text-decoration-color: #000000\">&lt;pycomex.functional.experiment.Experiment object at </span><span style=\"color: #008080; text-decoration-color: #008080; font-weight: bold\">0x71af2e4f3a90</span><span style=\"color: #000000; text-decoration-color: #000000\">&gt;,</span>\n",
       "<span style=\"color: #7fbf7f; text-decoration-color: #7fbf7f\">│   │   </span><span style=\"color: #000000; text-decoration-color: #000000\">&lt;pycomex.functional.experiment.Experiment object at </span><span style=\"color: #008080; text-decoration-color: #008080; font-weight: bold\">0x71af2e4f3160</span><span style=\"color: #000000; text-decoration-color: #000000\">&gt;,</span>\n",
       "<span style=\"color: #7fbf7f; text-decoration-color: #7fbf7f\">│   │   </span><span style=\"color: #000000; text-decoration-color: #000000\">&lt;pycomex.functional.experiment.Experiment object at </span><span style=\"color: #008080; text-decoration-color: #008080; font-weight: bold\">0x71af2e4f0160</span><span style=\"color: #000000; text-decoration-color: #000000\">&gt;,</span>\n",
       "<span style=\"color: #7fbf7f; text-decoration-color: #7fbf7f\">│   │   </span><span style=\"color: #808000; text-decoration-color: #808000\">...</span><span style=\"color: #000000; text-decoration-color: #000000\"> +</span><span style=\"color: #008080; text-decoration-color: #008080; font-weight: bold\">34</span>\n",
       "<span style=\"color: #7fbf7f; text-decoration-color: #7fbf7f\">│   </span><span style=\"color: #000000; text-decoration-color: #000000; font-weight: bold\">]</span><span style=\"color: #000000; text-decoration-color: #000000\">,</span>\n",
       "<span style=\"color: #7fbf7f; text-decoration-color: #7fbf7f\">│   </span><span style=\"color: #000000; text-decoration-color: #000000; font-weight: bold\">(</span><span style=\"color: #008000; text-decoration-color: #008000\">'hdc'</span><span style=\"color: #000000; text-decoration-color: #000000\">, </span><span style=\"color: #008000; text-decoration-color: #008000\">'neural_net'</span><span style=\"color: #000000; text-decoration-color: #000000; font-weight: bold\">)</span><span style=\"color: #000000; text-decoration-color: #000000\">: </span><span style=\"color: #000000; text-decoration-color: #000000; font-weight: bold\">[</span>\n",
       "<span style=\"color: #7fbf7f; text-decoration-color: #7fbf7f\">│   │   </span><span style=\"color: #000000; text-decoration-color: #000000\">&lt;pycomex.functional.experiment.Experiment object at </span><span style=\"color: #008080; text-decoration-color: #008080; font-weight: bold\">0x71af43f6b220</span><span style=\"color: #000000; text-decoration-color: #000000\">&gt;,</span>\n",
       "<span style=\"color: #7fbf7f; text-decoration-color: #7fbf7f\">│   │   </span><span style=\"color: #000000; text-decoration-color: #000000\">&lt;pycomex.functional.experiment.Experiment object at </span><span style=\"color: #008080; text-decoration-color: #008080; font-weight: bold\">0x71af468c0790</span><span style=\"color: #000000; text-decoration-color: #000000\">&gt;,</span>\n",
       "<span style=\"color: #7fbf7f; text-decoration-color: #7fbf7f\">│   │   </span><span style=\"color: #000000; text-decoration-color: #000000\">&lt;pycomex.functional.experiment.Experiment object at </span><span style=\"color: #008080; text-decoration-color: #008080; font-weight: bold\">0x71af43f69510</span><span style=\"color: #000000; text-decoration-color: #000000\">&gt;,</span>\n",
       "<span style=\"color: #7fbf7f; text-decoration-color: #7fbf7f\">│   │   </span><span style=\"color: #000000; text-decoration-color: #000000\">&lt;pycomex.functional.experiment.Experiment object at </span><span style=\"color: #008080; text-decoration-color: #008080; font-weight: bold\">0x71af46d04880</span><span style=\"color: #000000; text-decoration-color: #000000\">&gt;,</span>\n",
       "<span style=\"color: #7fbf7f; text-decoration-color: #7fbf7f\">│   │   </span><span style=\"color: #000000; text-decoration-color: #000000\">&lt;pycomex.functional.experiment.Experiment object at </span><span style=\"color: #008080; text-decoration-color: #008080; font-weight: bold\">0x71af46d05e70</span><span style=\"color: #000000; text-decoration-color: #000000\">&gt;,</span>\n",
       "<span style=\"color: #7fbf7f; text-decoration-color: #7fbf7f\">│   │   </span><span style=\"color: #808000; text-decoration-color: #808000\">...</span><span style=\"color: #000000; text-decoration-color: #000000\"> +</span><span style=\"color: #008080; text-decoration-color: #008080; font-weight: bold\">31</span>\n",
       "<span style=\"color: #7fbf7f; text-decoration-color: #7fbf7f\">│   </span><span style=\"color: #000000; text-decoration-color: #000000; font-weight: bold\">]</span><span style=\"color: #000000; text-decoration-color: #000000\">,</span>\n",
       "<span style=\"color: #7fbf7f; text-decoration-color: #7fbf7f\">│   </span><span style=\"color: #000000; text-decoration-color: #000000; font-weight: bold\">(</span><span style=\"color: #008000; text-decoration-color: #008000\">'hdc'</span><span style=\"color: #000000; text-decoration-color: #000000\">, </span><span style=\"color: #008000; text-decoration-color: #008000\">'random_forest'</span><span style=\"color: #000000; text-decoration-color: #000000; font-weight: bold\">)</span><span style=\"color: #000000; text-decoration-color: #000000\">: </span><span style=\"color: #000000; text-decoration-color: #000000; font-weight: bold\">[</span>\n",
       "<span style=\"color: #7fbf7f; text-decoration-color: #7fbf7f\">│   │   </span><span style=\"color: #000000; text-decoration-color: #000000\">&lt;pycomex.functional.experiment.Experiment object at </span><span style=\"color: #008080; text-decoration-color: #008080; font-weight: bold\">0x71af43f6b220</span><span style=\"color: #000000; text-decoration-color: #000000\">&gt;,</span>\n",
       "<span style=\"color: #7fbf7f; text-decoration-color: #7fbf7f\">│   │   </span><span style=\"color: #000000; text-decoration-color: #000000\">&lt;pycomex.functional.experiment.Experiment object at </span><span style=\"color: #008080; text-decoration-color: #008080; font-weight: bold\">0x71af468c0790</span><span style=\"color: #000000; text-decoration-color: #000000\">&gt;,</span>\n",
       "<span style=\"color: #7fbf7f; text-decoration-color: #7fbf7f\">│   │   </span><span style=\"color: #000000; text-decoration-color: #000000\">&lt;pycomex.functional.experiment.Experiment object at </span><span style=\"color: #008080; text-decoration-color: #008080; font-weight: bold\">0x71af43f69510</span><span style=\"color: #000000; text-decoration-color: #000000\">&gt;,</span>\n",
       "<span style=\"color: #7fbf7f; text-decoration-color: #7fbf7f\">│   │   </span><span style=\"color: #000000; text-decoration-color: #000000\">&lt;pycomex.functional.experiment.Experiment object at </span><span style=\"color: #008080; text-decoration-color: #008080; font-weight: bold\">0x71af46d04880</span><span style=\"color: #000000; text-decoration-color: #000000\">&gt;,</span>\n",
       "<span style=\"color: #7fbf7f; text-decoration-color: #7fbf7f\">│   │   </span><span style=\"color: #000000; text-decoration-color: #000000\">&lt;pycomex.functional.experiment.Experiment object at </span><span style=\"color: #008080; text-decoration-color: #008080; font-weight: bold\">0x71af46d05e70</span><span style=\"color: #000000; text-decoration-color: #000000\">&gt;,</span>\n",
       "<span style=\"color: #7fbf7f; text-decoration-color: #7fbf7f\">│   │   </span><span style=\"color: #808000; text-decoration-color: #808000\">...</span><span style=\"color: #000000; text-decoration-color: #000000\"> +</span><span style=\"color: #008080; text-decoration-color: #008080; font-weight: bold\">31</span>\n",
       "<span style=\"color: #7fbf7f; text-decoration-color: #7fbf7f\">│   </span><span style=\"color: #000000; text-decoration-color: #000000; font-weight: bold\">]</span><span style=\"color: #000000; text-decoration-color: #000000\">,</span>\n",
       "<span style=\"color: #7fbf7f; text-decoration-color: #7fbf7f\">│   </span><span style=\"color: #000000; text-decoration-color: #000000; font-weight: bold\">(</span><span style=\"color: #008000; text-decoration-color: #008000\">'gnn'</span><span style=\"color: #000000; text-decoration-color: #000000\">, </span><span style=\"color: #008000; text-decoration-color: #008000\">'gatv2'</span><span style=\"color: #000000; text-decoration-color: #000000; font-weight: bold\">)</span><span style=\"color: #000000; text-decoration-color: #000000\">: </span><span style=\"color: #000000; text-decoration-color: #000000; font-weight: bold\">[</span>\n",
       "<span style=\"color: #7fbf7f; text-decoration-color: #7fbf7f\">│   │   </span><span style=\"color: #000000; text-decoration-color: #000000\">&lt;pycomex.functional.experiment.Experiment object at </span><span style=\"color: #008080; text-decoration-color: #008080; font-weight: bold\">0x71af2e1374f0</span><span style=\"color: #000000; text-decoration-color: #000000\">&gt;,</span>\n",
       "<span style=\"color: #7fbf7f; text-decoration-color: #7fbf7f\">│   │   </span><span style=\"color: #000000; text-decoration-color: #000000\">&lt;pycomex.functional.experiment.Experiment object at </span><span style=\"color: #008080; text-decoration-color: #008080; font-weight: bold\">0x71af46ea0160</span><span style=\"color: #000000; text-decoration-color: #000000\">&gt;,</span>\n",
       "<span style=\"color: #7fbf7f; text-decoration-color: #7fbf7f\">│   │   </span><span style=\"color: #000000; text-decoration-color: #000000\">&lt;pycomex.functional.experiment.Experiment object at </span><span style=\"color: #008080; text-decoration-color: #008080; font-weight: bold\">0x71af405d5a80</span><span style=\"color: #000000; text-decoration-color: #000000\">&gt;,</span>\n",
       "<span style=\"color: #7fbf7f; text-decoration-color: #7fbf7f\">│   │   </span><span style=\"color: #000000; text-decoration-color: #000000\">&lt;pycomex.functional.experiment.Experiment object at </span><span style=\"color: #008080; text-decoration-color: #008080; font-weight: bold\">0x71af46ea2fe0</span><span style=\"color: #000000; text-decoration-color: #000000\">&gt;,</span>\n",
       "<span style=\"color: #7fbf7f; text-decoration-color: #7fbf7f\">│   │   </span><span style=\"color: #000000; text-decoration-color: #000000\">&lt;pycomex.functional.experiment.Experiment object at </span><span style=\"color: #008080; text-decoration-color: #008080; font-weight: bold\">0x71af405d6e30</span><span style=\"font-weight: bold\">&gt;</span>,\n",
       "<span style=\"color: #7fbf7f; text-decoration-color: #7fbf7f\">│   │   </span><span style=\"color: #808000; text-decoration-color: #808000\">...</span> +<span style=\"color: #008080; text-decoration-color: #008080; font-weight: bold\">31</span>\n",
       "<span style=\"color: #7fbf7f; text-decoration-color: #7fbf7f\">│   </span><span style=\"font-weight: bold\">]</span>,\n",
       "<span style=\"color: #7fbf7f; text-decoration-color: #7fbf7f\">│   </span><span style=\"color: #808000; text-decoration-color: #808000\">...</span> +<span style=\"color: #008080; text-decoration-color: #008080; font-weight: bold\">1</span>\n",
       "<span style=\"font-weight: bold\">})</span>\n",
       "</pre>\n"
      ],
      "text/plain": [
       "\u001b[1;35mdefaultdict\u001b[0m\u001b[1m(\u001b[0m\u001b[1m<\u001b[0m\u001b[1;95mclass\u001b[0m\u001b[39m \u001b[0m\u001b[32m'list'\u001b[0m\u001b[39m>, \u001b[0m\u001b[1;39m{\u001b[0m\n",
       "\u001b[2;32m│   \u001b[0m\u001b[1;39m(\u001b[0m\u001b[32m'fp'\u001b[0m\u001b[39m, \u001b[0m\u001b[32m'neural_net'\u001b[0m\u001b[1;39m)\u001b[0m\u001b[39m: \u001b[0m\u001b[1;39m[\u001b[0m\n",
       "\u001b[2;32m│   │   \u001b[0m\u001b[39m<pycomex.functional.experiment.Experiment object at \u001b[0m\u001b[1;36m0x71af4c2895d0\u001b[0m\u001b[39m>,\u001b[0m\n",
       "\u001b[2;32m│   │   \u001b[0m\u001b[39m<pycomex.functional.experiment.Experiment object at \u001b[0m\u001b[1;36m0x71af2e4f21d0\u001b[0m\u001b[39m>,\u001b[0m\n",
       "\u001b[2;32m│   │   \u001b[0m\u001b[39m<pycomex.functional.experiment.Experiment object at \u001b[0m\u001b[1;36m0x71af2e4f3a90\u001b[0m\u001b[39m>,\u001b[0m\n",
       "\u001b[2;32m│   │   \u001b[0m\u001b[39m<pycomex.functional.experiment.Experiment object at \u001b[0m\u001b[1;36m0x71af2e4f3160\u001b[0m\u001b[39m>,\u001b[0m\n",
       "\u001b[2;32m│   │   \u001b[0m\u001b[39m<pycomex.functional.experiment.Experiment object at \u001b[0m\u001b[1;36m0x71af2e4f0160\u001b[0m\u001b[39m>,\u001b[0m\n",
       "\u001b[2;32m│   │   \u001b[0m\u001b[33m...\u001b[0m\u001b[39m +\u001b[0m\u001b[1;36m34\u001b[0m\n",
       "\u001b[2;32m│   \u001b[0m\u001b[1;39m]\u001b[0m\u001b[39m,\u001b[0m\n",
       "\u001b[2;32m│   \u001b[0m\u001b[1;39m(\u001b[0m\u001b[32m'fp'\u001b[0m\u001b[39m, \u001b[0m\u001b[32m'random_forest'\u001b[0m\u001b[1;39m)\u001b[0m\u001b[39m: \u001b[0m\u001b[1;39m[\u001b[0m\n",
       "\u001b[2;32m│   │   \u001b[0m\u001b[39m<pycomex.functional.experiment.Experiment object at \u001b[0m\u001b[1;36m0x71af4c2895d0\u001b[0m\u001b[39m>,\u001b[0m\n",
       "\u001b[2;32m│   │   \u001b[0m\u001b[39m<pycomex.functional.experiment.Experiment object at \u001b[0m\u001b[1;36m0x71af2e4f21d0\u001b[0m\u001b[39m>,\u001b[0m\n",
       "\u001b[2;32m│   │   \u001b[0m\u001b[39m<pycomex.functional.experiment.Experiment object at \u001b[0m\u001b[1;36m0x71af2e4f3a90\u001b[0m\u001b[39m>,\u001b[0m\n",
       "\u001b[2;32m│   │   \u001b[0m\u001b[39m<pycomex.functional.experiment.Experiment object at \u001b[0m\u001b[1;36m0x71af2e4f3160\u001b[0m\u001b[39m>,\u001b[0m\n",
       "\u001b[2;32m│   │   \u001b[0m\u001b[39m<pycomex.functional.experiment.Experiment object at \u001b[0m\u001b[1;36m0x71af2e4f0160\u001b[0m\u001b[39m>,\u001b[0m\n",
       "\u001b[2;32m│   │   \u001b[0m\u001b[33m...\u001b[0m\u001b[39m +\u001b[0m\u001b[1;36m34\u001b[0m\n",
       "\u001b[2;32m│   \u001b[0m\u001b[1;39m]\u001b[0m\u001b[39m,\u001b[0m\n",
       "\u001b[2;32m│   \u001b[0m\u001b[1;39m(\u001b[0m\u001b[32m'hdc'\u001b[0m\u001b[39m, \u001b[0m\u001b[32m'neural_net'\u001b[0m\u001b[1;39m)\u001b[0m\u001b[39m: \u001b[0m\u001b[1;39m[\u001b[0m\n",
       "\u001b[2;32m│   │   \u001b[0m\u001b[39m<pycomex.functional.experiment.Experiment object at \u001b[0m\u001b[1;36m0x71af43f6b220\u001b[0m\u001b[39m>,\u001b[0m\n",
       "\u001b[2;32m│   │   \u001b[0m\u001b[39m<pycomex.functional.experiment.Experiment object at \u001b[0m\u001b[1;36m0x71af468c0790\u001b[0m\u001b[39m>,\u001b[0m\n",
       "\u001b[2;32m│   │   \u001b[0m\u001b[39m<pycomex.functional.experiment.Experiment object at \u001b[0m\u001b[1;36m0x71af43f69510\u001b[0m\u001b[39m>,\u001b[0m\n",
       "\u001b[2;32m│   │   \u001b[0m\u001b[39m<pycomex.functional.experiment.Experiment object at \u001b[0m\u001b[1;36m0x71af46d04880\u001b[0m\u001b[39m>,\u001b[0m\n",
       "\u001b[2;32m│   │   \u001b[0m\u001b[39m<pycomex.functional.experiment.Experiment object at \u001b[0m\u001b[1;36m0x71af46d05e70\u001b[0m\u001b[39m>,\u001b[0m\n",
       "\u001b[2;32m│   │   \u001b[0m\u001b[33m...\u001b[0m\u001b[39m +\u001b[0m\u001b[1;36m31\u001b[0m\n",
       "\u001b[2;32m│   \u001b[0m\u001b[1;39m]\u001b[0m\u001b[39m,\u001b[0m\n",
       "\u001b[2;32m│   \u001b[0m\u001b[1;39m(\u001b[0m\u001b[32m'hdc'\u001b[0m\u001b[39m, \u001b[0m\u001b[32m'random_forest'\u001b[0m\u001b[1;39m)\u001b[0m\u001b[39m: \u001b[0m\u001b[1;39m[\u001b[0m\n",
       "\u001b[2;32m│   │   \u001b[0m\u001b[39m<pycomex.functional.experiment.Experiment object at \u001b[0m\u001b[1;36m0x71af43f6b220\u001b[0m\u001b[39m>,\u001b[0m\n",
       "\u001b[2;32m│   │   \u001b[0m\u001b[39m<pycomex.functional.experiment.Experiment object at \u001b[0m\u001b[1;36m0x71af468c0790\u001b[0m\u001b[39m>,\u001b[0m\n",
       "\u001b[2;32m│   │   \u001b[0m\u001b[39m<pycomex.functional.experiment.Experiment object at \u001b[0m\u001b[1;36m0x71af43f69510\u001b[0m\u001b[39m>,\u001b[0m\n",
       "\u001b[2;32m│   │   \u001b[0m\u001b[39m<pycomex.functional.experiment.Experiment object at \u001b[0m\u001b[1;36m0x71af46d04880\u001b[0m\u001b[39m>,\u001b[0m\n",
       "\u001b[2;32m│   │   \u001b[0m\u001b[39m<pycomex.functional.experiment.Experiment object at \u001b[0m\u001b[1;36m0x71af46d05e70\u001b[0m\u001b[39m>,\u001b[0m\n",
       "\u001b[2;32m│   │   \u001b[0m\u001b[33m...\u001b[0m\u001b[39m +\u001b[0m\u001b[1;36m31\u001b[0m\n",
       "\u001b[2;32m│   \u001b[0m\u001b[1;39m]\u001b[0m\u001b[39m,\u001b[0m\n",
       "\u001b[2;32m│   \u001b[0m\u001b[1;39m(\u001b[0m\u001b[32m'gnn'\u001b[0m\u001b[39m, \u001b[0m\u001b[32m'gatv2'\u001b[0m\u001b[1;39m)\u001b[0m\u001b[39m: \u001b[0m\u001b[1;39m[\u001b[0m\n",
       "\u001b[2;32m│   │   \u001b[0m\u001b[39m<pycomex.functional.experiment.Experiment object at \u001b[0m\u001b[1;36m0x71af2e1374f0\u001b[0m\u001b[39m>,\u001b[0m\n",
       "\u001b[2;32m│   │   \u001b[0m\u001b[39m<pycomex.functional.experiment.Experiment object at \u001b[0m\u001b[1;36m0x71af46ea0160\u001b[0m\u001b[39m>,\u001b[0m\n",
       "\u001b[2;32m│   │   \u001b[0m\u001b[39m<pycomex.functional.experiment.Experiment object at \u001b[0m\u001b[1;36m0x71af405d5a80\u001b[0m\u001b[39m>,\u001b[0m\n",
       "\u001b[2;32m│   │   \u001b[0m\u001b[39m<pycomex.functional.experiment.Experiment object at \u001b[0m\u001b[1;36m0x71af46ea2fe0\u001b[0m\u001b[39m>,\u001b[0m\n",
       "\u001b[2;32m│   │   \u001b[0m\u001b[39m<pycomex.functional.experiment.Experiment object at \u001b[0m\u001b[1;36m0x71af405d6e30\u001b[0m\u001b[1m>\u001b[0m,\n",
       "\u001b[2;32m│   │   \u001b[0m\u001b[33m...\u001b[0m +\u001b[1;36m31\u001b[0m\n",
       "\u001b[2;32m│   \u001b[0m\u001b[1m]\u001b[0m,\n",
       "\u001b[2;32m│   \u001b[0m\u001b[33m...\u001b[0m +\u001b[1;36m1\u001b[0m\n",
       "\u001b[1m}\u001b[0m\u001b[1m)\u001b[0m\n"
      ]
     },
     "metadata": {},
     "output_type": "display_data"
    }
   ],
   "source": [
    "from collections import defaultdict\n",
    "\n",
    "# Here we first group the experiment instances by the method that was used (aka the model)\n",
    "# the model identifiers will be the keys and the values will be lists of experiments.\n",
    "method_experiments_map: Dict[Tuple[str, str], List[Experiment]] = defaultdict(list)\n",
    "\n",
    "for experiment in experiments:\n",
    "    \n",
    "    _, base, _ = experiment.metadata['name'].strip('.py').split('__')\n",
    "    methods: List[str] = BASE_METHOD_MAP[base]\n",
    "    for method in methods:\n",
    "        method_experiments_map[(base, method)].append(experiment)\n",
    "\n",
    "pprint(method_experiments_map, max_length=5)    "
   ]
  },
  {
   "cell_type": "code",
   "execution_count": 76,
   "metadata": {},
   "outputs": [
    {
     "name": "stdout",
     "output_type": "stream",
     "text": [
      "base: gnn\n"
     ]
    },
    {
     "data": {
      "text/html": [
       "<pre style=\"white-space:pre;overflow-x:auto;line-height:normal;font-family:Menlo,'DejaVu Sans Mono',consolas,'Courier New',monospace\"><span style=\"font-weight: bold\">{</span>\n",
       "<span style=\"color: #7fbf7f; text-decoration-color: #7fbf7f\">│   </span><span style=\"font-weight: bold\">(</span><span style=\"color: #008080; text-decoration-color: #008080; font-weight: bold\">16</span>, <span style=\"color: #008080; text-decoration-color: #008080; font-weight: bold\">1e-05</span><span style=\"font-weight: bold\">)</span>: <span style=\"color: #008080; text-decoration-color: #008080; font-weight: bold\">0.8914190921297971</span>,\n",
       "<span style=\"color: #7fbf7f; text-decoration-color: #7fbf7f\">│   </span><span style=\"font-weight: bold\">(</span><span style=\"color: #008080; text-decoration-color: #008080; font-weight: bold\">128</span>, <span style=\"color: #008080; text-decoration-color: #008080; font-weight: bold\">0.001</span><span style=\"font-weight: bold\">)</span>: <span style=\"color: #008080; text-decoration-color: #008080; font-weight: bold\">0.8871783666368156</span>,\n",
       "<span style=\"color: #7fbf7f; text-decoration-color: #7fbf7f\">│   </span><span style=\"font-weight: bold\">(</span><span style=\"color: #008080; text-decoration-color: #008080; font-weight: bold\">64</span>, <span style=\"color: #008080; text-decoration-color: #008080; font-weight: bold\">1e-05</span><span style=\"font-weight: bold\">)</span>: <span style=\"color: #008080; text-decoration-color: #008080; font-weight: bold\">0.8349155511893255</span>,\n",
       "<span style=\"color: #7fbf7f; text-decoration-color: #7fbf7f\">│   </span><span style=\"font-weight: bold\">(</span><span style=\"color: #008080; text-decoration-color: #008080; font-weight: bold\">16</span>, <span style=\"color: #008080; text-decoration-color: #008080; font-weight: bold\">0.001</span><span style=\"font-weight: bold\">)</span>: <span style=\"color: #008080; text-decoration-color: #008080; font-weight: bold\">0.9575757782123983</span>,\n",
       "<span style=\"color: #7fbf7f; text-decoration-color: #7fbf7f\">│   </span><span style=\"font-weight: bold\">(</span><span style=\"color: #008080; text-decoration-color: #008080; font-weight: bold\">64</span>, <span style=\"color: #008080; text-decoration-color: #008080; font-weight: bold\">0.001</span><span style=\"font-weight: bold\">)</span>: <span style=\"color: #008080; text-decoration-color: #008080; font-weight: bold\">0.8867012848308681</span>,\n",
       "<span style=\"color: #7fbf7f; text-decoration-color: #7fbf7f\">│   </span><span style=\"font-weight: bold\">(</span><span style=\"color: #008080; text-decoration-color: #008080; font-weight: bold\">16</span>, <span style=\"color: #008080; text-decoration-color: #008080; font-weight: bold\">0.0001</span><span style=\"font-weight: bold\">)</span>: <span style=\"color: #008080; text-decoration-color: #008080; font-weight: bold\">0.8740157122113503</span>,\n",
       "<span style=\"color: #7fbf7f; text-decoration-color: #7fbf7f\">│   </span><span style=\"font-weight: bold\">(</span><span style=\"color: #008080; text-decoration-color: #008080; font-weight: bold\">32</span>, <span style=\"color: #008080; text-decoration-color: #008080; font-weight: bold\">1e-05</span><span style=\"font-weight: bold\">)</span>: <span style=\"color: #008080; text-decoration-color: #008080; font-weight: bold\">0.8350511298205578</span>,\n",
       "<span style=\"color: #7fbf7f; text-decoration-color: #7fbf7f\">│   </span><span style=\"font-weight: bold\">(</span><span style=\"color: #008080; text-decoration-color: #008080; font-weight: bold\">32</span>, <span style=\"color: #008080; text-decoration-color: #008080; font-weight: bold\">0.001</span><span style=\"font-weight: bold\">)</span>: <span style=\"color: #008080; text-decoration-color: #008080; font-weight: bold\">0.8816885581201271</span>,\n",
       "<span style=\"color: #7fbf7f; text-decoration-color: #7fbf7f\">│   </span><span style=\"font-weight: bold\">(</span><span style=\"color: #008080; text-decoration-color: #008080; font-weight: bold\">128</span>, <span style=\"color: #008080; text-decoration-color: #008080; font-weight: bold\">0.0001</span><span style=\"font-weight: bold\">)</span>: <span style=\"color: #008080; text-decoration-color: #008080; font-weight: bold\">0.8786320244942708</span>,\n",
       "<span style=\"color: #7fbf7f; text-decoration-color: #7fbf7f\">│   </span><span style=\"font-weight: bold\">(</span><span style=\"color: #008080; text-decoration-color: #008080; font-weight: bold\">64</span>, <span style=\"color: #008080; text-decoration-color: #008080; font-weight: bold\">0.0001</span><span style=\"font-weight: bold\">)</span>: <span style=\"color: #008080; text-decoration-color: #008080; font-weight: bold\">0.8650032125155175</span>,\n",
       "<span style=\"color: #7fbf7f; text-decoration-color: #7fbf7f\">│   </span><span style=\"font-weight: bold\">(</span><span style=\"color: #008080; text-decoration-color: #008080; font-weight: bold\">32</span>, <span style=\"color: #008080; text-decoration-color: #008080; font-weight: bold\">0.0001</span><span style=\"font-weight: bold\">)</span>: <span style=\"color: #008080; text-decoration-color: #008080; font-weight: bold\">0.9182033130662116</span>,\n",
       "<span style=\"color: #7fbf7f; text-decoration-color: #7fbf7f\">│   </span><span style=\"font-weight: bold\">(</span><span style=\"color: #008080; text-decoration-color: #008080; font-weight: bold\">128</span>, <span style=\"color: #008080; text-decoration-color: #008080; font-weight: bold\">1e-05</span><span style=\"font-weight: bold\">)</span>: <span style=\"color: #008080; text-decoration-color: #008080; font-weight: bold\">0.755911894090341</span>\n",
       "<span style=\"font-weight: bold\">}</span>\n",
       "</pre>\n"
      ],
      "text/plain": [
       "\u001b[1m{\u001b[0m\n",
       "\u001b[2;32m│   \u001b[0m\u001b[1m(\u001b[0m\u001b[1;36m16\u001b[0m, \u001b[1;36m1e-05\u001b[0m\u001b[1m)\u001b[0m: \u001b[1;36m0.8914190921297971\u001b[0m,\n",
       "\u001b[2;32m│   \u001b[0m\u001b[1m(\u001b[0m\u001b[1;36m128\u001b[0m, \u001b[1;36m0.001\u001b[0m\u001b[1m)\u001b[0m: \u001b[1;36m0.8871783666368156\u001b[0m,\n",
       "\u001b[2;32m│   \u001b[0m\u001b[1m(\u001b[0m\u001b[1;36m64\u001b[0m, \u001b[1;36m1e-05\u001b[0m\u001b[1m)\u001b[0m: \u001b[1;36m0.8349155511893255\u001b[0m,\n",
       "\u001b[2;32m│   \u001b[0m\u001b[1m(\u001b[0m\u001b[1;36m16\u001b[0m, \u001b[1;36m0.001\u001b[0m\u001b[1m)\u001b[0m: \u001b[1;36m0.9575757782123983\u001b[0m,\n",
       "\u001b[2;32m│   \u001b[0m\u001b[1m(\u001b[0m\u001b[1;36m64\u001b[0m, \u001b[1;36m0.001\u001b[0m\u001b[1m)\u001b[0m: \u001b[1;36m0.8867012848308681\u001b[0m,\n",
       "\u001b[2;32m│   \u001b[0m\u001b[1m(\u001b[0m\u001b[1;36m16\u001b[0m, \u001b[1;36m0.0001\u001b[0m\u001b[1m)\u001b[0m: \u001b[1;36m0.8740157122113503\u001b[0m,\n",
       "\u001b[2;32m│   \u001b[0m\u001b[1m(\u001b[0m\u001b[1;36m32\u001b[0m, \u001b[1;36m1e-05\u001b[0m\u001b[1m)\u001b[0m: \u001b[1;36m0.8350511298205578\u001b[0m,\n",
       "\u001b[2;32m│   \u001b[0m\u001b[1m(\u001b[0m\u001b[1;36m32\u001b[0m, \u001b[1;36m0.001\u001b[0m\u001b[1m)\u001b[0m: \u001b[1;36m0.8816885581201271\u001b[0m,\n",
       "\u001b[2;32m│   \u001b[0m\u001b[1m(\u001b[0m\u001b[1;36m128\u001b[0m, \u001b[1;36m0.0001\u001b[0m\u001b[1m)\u001b[0m: \u001b[1;36m0.8786320244942708\u001b[0m,\n",
       "\u001b[2;32m│   \u001b[0m\u001b[1m(\u001b[0m\u001b[1;36m64\u001b[0m, \u001b[1;36m0.0001\u001b[0m\u001b[1m)\u001b[0m: \u001b[1;36m0.8650032125155175\u001b[0m,\n",
       "\u001b[2;32m│   \u001b[0m\u001b[1m(\u001b[0m\u001b[1;36m32\u001b[0m, \u001b[1;36m0.0001\u001b[0m\u001b[1m)\u001b[0m: \u001b[1;36m0.9182033130662116\u001b[0m,\n",
       "\u001b[2;32m│   \u001b[0m\u001b[1m(\u001b[0m\u001b[1;36m128\u001b[0m, \u001b[1;36m1e-05\u001b[0m\u001b[1m)\u001b[0m: \u001b[1;36m0.755911894090341\u001b[0m\n",
       "\u001b[1m}\u001b[0m\n"
      ]
     },
     "metadata": {},
     "output_type": "display_data"
    },
    {
     "name": "stdout",
     "output_type": "stream",
     "text": [
      "best hyperparameters: ((16, 0.001), 0.9575757782123983)\n",
      "base: hdc\n"
     ]
    },
    {
     "data": {
      "text/html": [
       "<pre style=\"white-space:pre;overflow-x:auto;line-height:normal;font-family:Menlo,'DejaVu Sans Mono',consolas,'Courier New',monospace\"><span style=\"font-weight: bold\">{</span>\n",
       "<span style=\"color: #7fbf7f; text-decoration-color: #7fbf7f\">│   </span><span style=\"font-weight: bold\">(</span><span style=\"color: #008080; text-decoration-color: #008080; font-weight: bold\">1024</span>, <span style=\"color: #008080; text-decoration-color: #008080; font-weight: bold\">2</span><span style=\"font-weight: bold\">)</span>: <span style=\"color: #008080; text-decoration-color: #008080; font-weight: bold\">0.821566645251233</span>,\n",
       "<span style=\"color: #7fbf7f; text-decoration-color: #7fbf7f\">│   </span><span style=\"font-weight: bold\">(</span><span style=\"color: #008080; text-decoration-color: #008080; font-weight: bold\">1024</span>, <span style=\"color: #008080; text-decoration-color: #008080; font-weight: bold\">3</span><span style=\"font-weight: bold\">)</span>: <span style=\"color: #008080; text-decoration-color: #008080; font-weight: bold\">0.8253393574461808</span>,\n",
       "<span style=\"color: #7fbf7f; text-decoration-color: #7fbf7f\">│   </span><span style=\"font-weight: bold\">(</span><span style=\"color: #008080; text-decoration-color: #008080; font-weight: bold\">2048</span>, <span style=\"color: #008080; text-decoration-color: #008080; font-weight: bold\">3</span><span style=\"font-weight: bold\">)</span>: <span style=\"color: #008080; text-decoration-color: #008080; font-weight: bold\">0.833176716422046</span>,\n",
       "<span style=\"color: #7fbf7f; text-decoration-color: #7fbf7f\">│   </span><span style=\"font-weight: bold\">(</span><span style=\"color: #008080; text-decoration-color: #008080; font-weight: bold\">4096</span>, <span style=\"color: #008080; text-decoration-color: #008080; font-weight: bold\">3</span><span style=\"font-weight: bold\">)</span>: <span style=\"color: #008080; text-decoration-color: #008080; font-weight: bold\">0.8423248126947079</span>,\n",
       "<span style=\"color: #7fbf7f; text-decoration-color: #7fbf7f\">│   </span><span style=\"font-weight: bold\">(</span><span style=\"color: #008080; text-decoration-color: #008080; font-weight: bold\">2048</span>, <span style=\"color: #008080; text-decoration-color: #008080; font-weight: bold\">2</span><span style=\"font-weight: bold\">)</span>: <span style=\"color: #008080; text-decoration-color: #008080; font-weight: bold\">0.8447460462564204</span>,\n",
       "<span style=\"color: #7fbf7f; text-decoration-color: #7fbf7f\">│   </span><span style=\"font-weight: bold\">(</span><span style=\"color: #008080; text-decoration-color: #008080; font-weight: bold\">8192</span>, <span style=\"color: #008080; text-decoration-color: #008080; font-weight: bold\">1</span><span style=\"font-weight: bold\">)</span>: <span style=\"color: #008080; text-decoration-color: #008080; font-weight: bold\">0.8747765737206095</span>,\n",
       "<span style=\"color: #7fbf7f; text-decoration-color: #7fbf7f\">│   </span><span style=\"font-weight: bold\">(</span><span style=\"color: #008080; text-decoration-color: #008080; font-weight: bold\">1024</span>, <span style=\"color: #008080; text-decoration-color: #008080; font-weight: bold\">1</span><span style=\"font-weight: bold\">)</span>: <span style=\"color: #008080; text-decoration-color: #008080; font-weight: bold\">0.8580133169478649</span>,\n",
       "<span style=\"color: #7fbf7f; text-decoration-color: #7fbf7f\">│   </span><span style=\"font-weight: bold\">(</span><span style=\"color: #008080; text-decoration-color: #008080; font-weight: bold\">4096</span>, <span style=\"color: #008080; text-decoration-color: #008080; font-weight: bold\">1</span><span style=\"font-weight: bold\">)</span>: <span style=\"color: #008080; text-decoration-color: #008080; font-weight: bold\">0.8583627940795107</span>,\n",
       "<span style=\"color: #7fbf7f; text-decoration-color: #7fbf7f\">│   </span><span style=\"font-weight: bold\">(</span><span style=\"color: #008080; text-decoration-color: #008080; font-weight: bold\">2048</span>, <span style=\"color: #008080; text-decoration-color: #008080; font-weight: bold\">1</span><span style=\"font-weight: bold\">)</span>: <span style=\"color: #008080; text-decoration-color: #008080; font-weight: bold\">0.8720488323727663</span>,\n",
       "<span style=\"color: #7fbf7f; text-decoration-color: #7fbf7f\">│   </span><span style=\"font-weight: bold\">(</span><span style=\"color: #008080; text-decoration-color: #008080; font-weight: bold\">4096</span>, <span style=\"color: #008080; text-decoration-color: #008080; font-weight: bold\">2</span><span style=\"font-weight: bold\">)</span>: <span style=\"color: #008080; text-decoration-color: #008080; font-weight: bold\">0.829775815630781</span>,\n",
       "<span style=\"color: #7fbf7f; text-decoration-color: #7fbf7f\">│   </span><span style=\"font-weight: bold\">(</span><span style=\"color: #008080; text-decoration-color: #008080; font-weight: bold\">8192</span>, <span style=\"color: #008080; text-decoration-color: #008080; font-weight: bold\">3</span><span style=\"font-weight: bold\">)</span>: <span style=\"color: #008080; text-decoration-color: #008080; font-weight: bold\">0.8193637645859271</span>,\n",
       "<span style=\"color: #7fbf7f; text-decoration-color: #7fbf7f\">│   </span><span style=\"font-weight: bold\">(</span><span style=\"color: #008080; text-decoration-color: #008080; font-weight: bold\">8192</span>, <span style=\"color: #008080; text-decoration-color: #008080; font-weight: bold\">2</span><span style=\"font-weight: bold\">)</span>: <span style=\"color: #008080; text-decoration-color: #008080; font-weight: bold\">0.8540083973042579</span>\n",
       "<span style=\"font-weight: bold\">}</span>\n",
       "</pre>\n"
      ],
      "text/plain": [
       "\u001b[1m{\u001b[0m\n",
       "\u001b[2;32m│   \u001b[0m\u001b[1m(\u001b[0m\u001b[1;36m1024\u001b[0m, \u001b[1;36m2\u001b[0m\u001b[1m)\u001b[0m: \u001b[1;36m0.821566645251233\u001b[0m,\n",
       "\u001b[2;32m│   \u001b[0m\u001b[1m(\u001b[0m\u001b[1;36m1024\u001b[0m, \u001b[1;36m3\u001b[0m\u001b[1m)\u001b[0m: \u001b[1;36m0.8253393574461808\u001b[0m,\n",
       "\u001b[2;32m│   \u001b[0m\u001b[1m(\u001b[0m\u001b[1;36m2048\u001b[0m, \u001b[1;36m3\u001b[0m\u001b[1m)\u001b[0m: \u001b[1;36m0.833176716422046\u001b[0m,\n",
       "\u001b[2;32m│   \u001b[0m\u001b[1m(\u001b[0m\u001b[1;36m4096\u001b[0m, \u001b[1;36m3\u001b[0m\u001b[1m)\u001b[0m: \u001b[1;36m0.8423248126947079\u001b[0m,\n",
       "\u001b[2;32m│   \u001b[0m\u001b[1m(\u001b[0m\u001b[1;36m2048\u001b[0m, \u001b[1;36m2\u001b[0m\u001b[1m)\u001b[0m: \u001b[1;36m0.8447460462564204\u001b[0m,\n",
       "\u001b[2;32m│   \u001b[0m\u001b[1m(\u001b[0m\u001b[1;36m8192\u001b[0m, \u001b[1;36m1\u001b[0m\u001b[1m)\u001b[0m: \u001b[1;36m0.8747765737206095\u001b[0m,\n",
       "\u001b[2;32m│   \u001b[0m\u001b[1m(\u001b[0m\u001b[1;36m1024\u001b[0m, \u001b[1;36m1\u001b[0m\u001b[1m)\u001b[0m: \u001b[1;36m0.8580133169478649\u001b[0m,\n",
       "\u001b[2;32m│   \u001b[0m\u001b[1m(\u001b[0m\u001b[1;36m4096\u001b[0m, \u001b[1;36m1\u001b[0m\u001b[1m)\u001b[0m: \u001b[1;36m0.8583627940795107\u001b[0m,\n",
       "\u001b[2;32m│   \u001b[0m\u001b[1m(\u001b[0m\u001b[1;36m2048\u001b[0m, \u001b[1;36m1\u001b[0m\u001b[1m)\u001b[0m: \u001b[1;36m0.8720488323727663\u001b[0m,\n",
       "\u001b[2;32m│   \u001b[0m\u001b[1m(\u001b[0m\u001b[1;36m4096\u001b[0m, \u001b[1;36m2\u001b[0m\u001b[1m)\u001b[0m: \u001b[1;36m0.829775815630781\u001b[0m,\n",
       "\u001b[2;32m│   \u001b[0m\u001b[1m(\u001b[0m\u001b[1;36m8192\u001b[0m, \u001b[1;36m3\u001b[0m\u001b[1m)\u001b[0m: \u001b[1;36m0.8193637645859271\u001b[0m,\n",
       "\u001b[2;32m│   \u001b[0m\u001b[1m(\u001b[0m\u001b[1;36m8192\u001b[0m, \u001b[1;36m2\u001b[0m\u001b[1m)\u001b[0m: \u001b[1;36m0.8540083973042579\u001b[0m\n",
       "\u001b[1m}\u001b[0m\n"
      ]
     },
     "metadata": {},
     "output_type": "display_data"
    },
    {
     "name": "stdout",
     "output_type": "stream",
     "text": [
      "best hyperparameters: ((8192, 1), 0.8747765737206095)\n",
      "base: fp\n"
     ]
    },
    {
     "data": {
      "text/html": [
       "<pre style=\"white-space:pre;overflow-x:auto;line-height:normal;font-family:Menlo,'DejaVu Sans Mono',consolas,'Courier New',monospace\"><span style=\"font-weight: bold\">{</span>\n",
       "<span style=\"color: #7fbf7f; text-decoration-color: #7fbf7f\">│   </span><span style=\"font-weight: bold\">(</span><span style=\"color: #008080; text-decoration-color: #008080; font-weight: bold\">8192</span>, <span style=\"color: #008080; text-decoration-color: #008080; font-weight: bold\">2</span><span style=\"font-weight: bold\">)</span>: <span style=\"color: #008080; text-decoration-color: #008080; font-weight: bold\">0.6801050151864304</span>,\n",
       "<span style=\"color: #7fbf7f; text-decoration-color: #7fbf7f\">│   </span><span style=\"font-weight: bold\">(</span><span style=\"color: #008080; text-decoration-color: #008080; font-weight: bold\">1024</span>, <span style=\"color: #008080; text-decoration-color: #008080; font-weight: bold\">3</span><span style=\"font-weight: bold\">)</span>: <span style=\"color: #008080; text-decoration-color: #008080; font-weight: bold\">0.6678777620196504</span>,\n",
       "<span style=\"color: #7fbf7f; text-decoration-color: #7fbf7f\">│   </span><span style=\"font-weight: bold\">(</span><span style=\"color: #008080; text-decoration-color: #008080; font-weight: bold\">4096</span>, <span style=\"color: #008080; text-decoration-color: #008080; font-weight: bold\">1</span><span style=\"font-weight: bold\">)</span>: <span style=\"color: #008080; text-decoration-color: #008080; font-weight: bold\">0.6887767668924858</span>,\n",
       "<span style=\"color: #7fbf7f; text-decoration-color: #7fbf7f\">│   </span><span style=\"font-weight: bold\">(</span><span style=\"color: #008080; text-decoration-color: #008080; font-weight: bold\">8192</span>, <span style=\"color: #008080; text-decoration-color: #008080; font-weight: bold\">3</span><span style=\"font-weight: bold\">)</span>: <span style=\"color: #008080; text-decoration-color: #008080; font-weight: bold\">0.6576435586912752</span>,\n",
       "<span style=\"color: #7fbf7f; text-decoration-color: #7fbf7f\">│   </span><span style=\"font-weight: bold\">(</span><span style=\"color: #008080; text-decoration-color: #008080; font-weight: bold\">2048</span>, <span style=\"color: #008080; text-decoration-color: #008080; font-weight: bold\">2</span><span style=\"font-weight: bold\">)</span>: <span style=\"color: #008080; text-decoration-color: #008080; font-weight: bold\">0.6689271303924249</span>,\n",
       "<span style=\"color: #7fbf7f; text-decoration-color: #7fbf7f\">│   </span><span style=\"font-weight: bold\">(</span><span style=\"color: #008080; text-decoration-color: #008080; font-weight: bold\">1024</span>, <span style=\"color: #008080; text-decoration-color: #008080; font-weight: bold\">1</span><span style=\"font-weight: bold\">)</span>: <span style=\"color: #008080; text-decoration-color: #008080; font-weight: bold\">0.6818388825577903</span>,\n",
       "<span style=\"color: #7fbf7f; text-decoration-color: #7fbf7f\">│   </span><span style=\"font-weight: bold\">(</span><span style=\"color: #008080; text-decoration-color: #008080; font-weight: bold\">2048</span>, <span style=\"color: #008080; text-decoration-color: #008080; font-weight: bold\">1</span><span style=\"font-weight: bold\">)</span>: <span style=\"color: #008080; text-decoration-color: #008080; font-weight: bold\">0.6784299528881778</span>,\n",
       "<span style=\"color: #7fbf7f; text-decoration-color: #7fbf7f\">│   </span><span style=\"font-weight: bold\">(</span><span style=\"color: #008080; text-decoration-color: #008080; font-weight: bold\">1024</span>, <span style=\"color: #008080; text-decoration-color: #008080; font-weight: bold\">2</span><span style=\"font-weight: bold\">)</span>: <span style=\"color: #008080; text-decoration-color: #008080; font-weight: bold\">0.6692036068805477</span>,\n",
       "<span style=\"color: #7fbf7f; text-decoration-color: #7fbf7f\">│   </span><span style=\"font-weight: bold\">(</span><span style=\"color: #008080; text-decoration-color: #008080; font-weight: bold\">4096</span>, <span style=\"color: #008080; text-decoration-color: #008080; font-weight: bold\">2</span><span style=\"font-weight: bold\">)</span>: <span style=\"color: #008080; text-decoration-color: #008080; font-weight: bold\">0.6800862286921973</span>,\n",
       "<span style=\"color: #7fbf7f; text-decoration-color: #7fbf7f\">│   </span><span style=\"font-weight: bold\">(</span><span style=\"color: #008080; text-decoration-color: #008080; font-weight: bold\">8192</span>, <span style=\"color: #008080; text-decoration-color: #008080; font-weight: bold\">1</span><span style=\"font-weight: bold\">)</span>: <span style=\"color: #008080; text-decoration-color: #008080; font-weight: bold\">0.6943678186105804</span>,\n",
       "<span style=\"color: #7fbf7f; text-decoration-color: #7fbf7f\">│   </span><span style=\"font-weight: bold\">(</span><span style=\"color: #008080; text-decoration-color: #008080; font-weight: bold\">4096</span>, <span style=\"color: #008080; text-decoration-color: #008080; font-weight: bold\">3</span><span style=\"font-weight: bold\">)</span>: <span style=\"color: #008080; text-decoration-color: #008080; font-weight: bold\">0.6606773527554984</span>,\n",
       "<span style=\"color: #7fbf7f; text-decoration-color: #7fbf7f\">│   </span><span style=\"font-weight: bold\">(</span><span style=\"color: #008080; text-decoration-color: #008080; font-weight: bold\">2048</span>, <span style=\"color: #008080; text-decoration-color: #008080; font-weight: bold\">3</span><span style=\"font-weight: bold\">)</span>: <span style=\"color: #008080; text-decoration-color: #008080; font-weight: bold\">0.6605235531465161</span>\n",
       "<span style=\"font-weight: bold\">}</span>\n",
       "</pre>\n"
      ],
      "text/plain": [
       "\u001b[1m{\u001b[0m\n",
       "\u001b[2;32m│   \u001b[0m\u001b[1m(\u001b[0m\u001b[1;36m8192\u001b[0m, \u001b[1;36m2\u001b[0m\u001b[1m)\u001b[0m: \u001b[1;36m0.6801050151864304\u001b[0m,\n",
       "\u001b[2;32m│   \u001b[0m\u001b[1m(\u001b[0m\u001b[1;36m1024\u001b[0m, \u001b[1;36m3\u001b[0m\u001b[1m)\u001b[0m: \u001b[1;36m0.6678777620196504\u001b[0m,\n",
       "\u001b[2;32m│   \u001b[0m\u001b[1m(\u001b[0m\u001b[1;36m4096\u001b[0m, \u001b[1;36m1\u001b[0m\u001b[1m)\u001b[0m: \u001b[1;36m0.6887767668924858\u001b[0m,\n",
       "\u001b[2;32m│   \u001b[0m\u001b[1m(\u001b[0m\u001b[1;36m8192\u001b[0m, \u001b[1;36m3\u001b[0m\u001b[1m)\u001b[0m: \u001b[1;36m0.6576435586912752\u001b[0m,\n",
       "\u001b[2;32m│   \u001b[0m\u001b[1m(\u001b[0m\u001b[1;36m2048\u001b[0m, \u001b[1;36m2\u001b[0m\u001b[1m)\u001b[0m: \u001b[1;36m0.6689271303924249\u001b[0m,\n",
       "\u001b[2;32m│   \u001b[0m\u001b[1m(\u001b[0m\u001b[1;36m1024\u001b[0m, \u001b[1;36m1\u001b[0m\u001b[1m)\u001b[0m: \u001b[1;36m0.6818388825577903\u001b[0m,\n",
       "\u001b[2;32m│   \u001b[0m\u001b[1m(\u001b[0m\u001b[1;36m2048\u001b[0m, \u001b[1;36m1\u001b[0m\u001b[1m)\u001b[0m: \u001b[1;36m0.6784299528881778\u001b[0m,\n",
       "\u001b[2;32m│   \u001b[0m\u001b[1m(\u001b[0m\u001b[1;36m1024\u001b[0m, \u001b[1;36m2\u001b[0m\u001b[1m)\u001b[0m: \u001b[1;36m0.6692036068805477\u001b[0m,\n",
       "\u001b[2;32m│   \u001b[0m\u001b[1m(\u001b[0m\u001b[1;36m4096\u001b[0m, \u001b[1;36m2\u001b[0m\u001b[1m)\u001b[0m: \u001b[1;36m0.6800862286921973\u001b[0m,\n",
       "\u001b[2;32m│   \u001b[0m\u001b[1m(\u001b[0m\u001b[1;36m8192\u001b[0m, \u001b[1;36m1\u001b[0m\u001b[1m)\u001b[0m: \u001b[1;36m0.6943678186105804\u001b[0m,\n",
       "\u001b[2;32m│   \u001b[0m\u001b[1m(\u001b[0m\u001b[1;36m4096\u001b[0m, \u001b[1;36m3\u001b[0m\u001b[1m)\u001b[0m: \u001b[1;36m0.6606773527554984\u001b[0m,\n",
       "\u001b[2;32m│   \u001b[0m\u001b[1m(\u001b[0m\u001b[1;36m2048\u001b[0m, \u001b[1;36m3\u001b[0m\u001b[1m)\u001b[0m: \u001b[1;36m0.6605235531465161\u001b[0m\n",
       "\u001b[1m}\u001b[0m\n"
      ]
     },
     "metadata": {},
     "output_type": "display_data"
    },
    {
     "name": "stdout",
     "output_type": "stream",
     "text": [
      "best hyperparameters: ((8192, 1), 0.6943678186105804)\n"
     ]
    }
   ],
   "source": [
    "for base, methods in BASE_METHOD_MAP.items():\n",
    "    \n",
    "    print(f'base: {base}')\n",
    "    hparam_results_map: Dict[tuple, list[float]] = defaultdict(list)\n",
    "    \n",
    "    for experiment in experiments:\n",
    "        \n",
    "        _, base_, _ = experiment.metadata['name'].strip('.py').split('__')\n",
    "        if base_ == base:\n",
    "            hparams: tuple = tuple([experiment.parameters[hparam] for hparam in BASE_HPARAMS_MAP[base]])\n",
    "            \n",
    "            values: List[float] = []\n",
    "            keys: List[str] = [f'test_{method}' for method in BASE_METHOD_MAP[base]]\n",
    "            for key in keys:\n",
    "                if 'metrics' in experiment.data:\n",
    "                    value = get_metric(experiment.data['metrics'][key])\n",
    "                    values.append(value)\n",
    "                \n",
    "            # Here we actually want to include the MEAN of all the different methods values as the indicator\n",
    "            # to determine how well the hyperparameters performed\n",
    "            hparam_results_map[hparams].append(np.mean(values))\n",
    "            \n",
    "    # Currently the dict data structure still contains lists as values which represent the different \n",
    "    # independent repetitions of the experiment. But we need to decide based on a single value \n",
    "    # which hyperparameters are the best. We can do this by taking the mean of all the different\n",
    "    # results for each hyperparameter configuration.\n",
    "    hparam_means_map = {hparam: np.mean(results) for hparam, results in hparam_results_map.items()}\n",
    "    pprint(hparam_means_map)\n",
    "    \n",
    "    # Now we can sort the hyperparameters based on their mean value and select the best one\n",
    "    if hparam_means_map:\n",
    "        best_hparam = max(hparam_means_map.items(), key=lambda x: x[1])\n",
    "        print(f'best hyperparameters: {best_hparam}')"
   ]
  },
  {
   "cell_type": "code",
   "execution_count": null,
   "metadata": {},
   "outputs": [],
   "source": []
  },
  {
   "cell_type": "code",
   "execution_count": null,
   "metadata": {},
   "outputs": [],
   "source": []
  }
 ],
 "metadata": {
  "kernelspec": {
   "display_name": "venv",
   "language": "python",
   "name": "python3"
  },
  "language_info": {
   "codemirror_mode": {
    "name": "ipython",
    "version": 3
   },
   "file_extension": ".py",
   "mimetype": "text/x-python",
   "name": "python",
   "nbconvert_exporter": "python",
   "pygments_lexer": "ipython3",
   "version": "3.10.12"
  }
 },
 "nbformat": 4,
 "nbformat_minor": 2
}
